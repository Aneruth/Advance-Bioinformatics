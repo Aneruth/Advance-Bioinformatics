{
 "cells": [
  {
   "cell_type": "code",
   "execution_count": 1,
   "metadata": {},
   "outputs": [],
   "source": [
    "#References\n",
    "#https://rnaseq.uoregon.edu/#analysis-aligning-to-a-transcriptome\n",
    "#https://www.biostars.org/p/212687/\n",
    "#https://www.biostars.org/p/124298/\n",
    "#https://www.researchgate.net/post/How_can_I_combine_forward_and_reverse_illumina_reads_in_one_fragment_recruitment_analysis"
   ]
  },
  {
   "cell_type": "code",
   "execution_count": 1,
   "metadata": {},
   "outputs": [],
   "source": [
    "import pickle\n",
    "from Bio import SeqIO\n",
    "from collections import defaultdict\n",
    "import collections\n",
    "import matplotlib.pyplot as plt"
   ]
  },
  {
   "cell_type": "code",
   "execution_count": 2,
   "metadata": {},
   "outputs": [],
   "source": [
    "k = 11"
   ]
  },
  {
   "cell_type": "code",
   "execution_count": 3,
   "metadata": {},
   "outputs": [],
   "source": [
    "#### Pickle Module to save and load dictionary later on\n",
    "\n",
    "def save_obj(obj, name ):\n",
    "    with open(name + '.pkl', 'wb') as f:\n",
    "        pickle.dump(obj, f, pickle.HIGHEST_PROTOCOL)\n",
    "\n",
    "def load_obj(name):\n",
    "    with open( name + '.pkl', 'rb') as f:\n",
    "        return pickle.load(f)"
   ]
  },
  {
   "cell_type": "code",
   "execution_count": 5,
   "metadata": {},
   "outputs": [],
   "source": [
    "# d = load_obj('genome_index_full')"
   ]
  },
  {
   "cell_type": "code",
   "execution_count": 6,
   "metadata": {},
   "outputs": [],
   "source": [
    "r1_list = []\n",
    "r1_str= \" \"\n",
    "for record in SeqIO.parse('fastq dataset', \"fastq\"):\n",
    "#     print(record.seq)\n",
    "    if record.seq != ' ':\n",
    "        r1_list.append(str(record.seq).replace('N',''))"
   ]
  },
  {
   "cell_type": "code",
   "execution_count": 7,
   "metadata": {},
   "outputs": [],
   "source": [
    "# r2_list = []\n",
    "# r2_str= \" \"\n",
    "# for record in SeqIO.parse(\"10000_R2.fastq\", \"fastq\"):\n",
    "# #     print(record.seq)\n",
    "#     if record.seq != ' ':\n",
    "#         r2_list.append(str(record.seq).replace('N',''))"
   ]
  },
  {
   "cell_type": "code",
   "execution_count": 8,
   "metadata": {},
   "outputs": [
    {
     "output_type": "execute_result",
     "data": {
      "text/plain": [
       "10000"
      ]
     },
     "metadata": {},
     "execution_count": 8
    }
   ],
   "source": [
    "len(r1_list)"
   ]
  },
  {
   "cell_type": "code",
   "execution_count": 9,
   "metadata": {},
   "outputs": [
    {
     "output_type": "stream",
     "name": "stdout",
     "text": [
      "36\n"
     ]
    },
    {
     "output_type": "execute_result",
     "data": {
      "text/plain": [
       "'TCTCGCATACGCGATCATATTTCACCCTATAATATG'"
      ]
     },
     "metadata": {},
     "execution_count": 9
    }
   ],
   "source": [
    "print(len(r1_list[2]))\n",
    "r1_list[2] #RANDOM TEST OF MEMORY"
   ]
  },
  {
   "cell_type": "code",
   "execution_count": 10,
   "metadata": {},
   "outputs": [],
   "source": [
    "reference_list = []\n",
    "reference_str= \" \"\n",
    "\n",
    "for record in SeqIO.parse('fasta dataset', \"fasta\"):\n",
    "    if record.seq != ' ':\n",
    "        reference_list.append(record.seq)\n",
    "reference_str = ''.join(map(str, reference_list)).upper()"
   ]
  },
  {
   "cell_type": "code",
   "execution_count": 11,
   "metadata": {},
   "outputs": [
    {
     "output_type": "error",
     "ename": "NameError",
     "evalue": "name 'd' is not defined",
     "traceback": [
      "\u001b[0;31m---------------------------------------------------------------------------\u001b[0m",
      "\u001b[0;31mNameError\u001b[0m                                 Traceback (most recent call last)",
      "\u001b[0;32m<ipython-input-11-81892e504f45>\u001b[0m in \u001b[0;36m<module>\u001b[0;34m\u001b[0m\n\u001b[1;32m      8\u001b[0m \u001b[0;34m\u001b[0m\u001b[0m\n\u001b[1;32m      9\u001b[0m     \u001b[0ms\u001b[0m \u001b[0;34m=\u001b[0m \u001b[0mread\u001b[0m\u001b[0;34m[\u001b[0m\u001b[0;34m:\u001b[0m\u001b[0;36m11\u001b[0m\u001b[0;34m]\u001b[0m\u001b[0;34m\u001b[0m\u001b[0;34m\u001b[0m\u001b[0m\n\u001b[0;32m---> 10\u001b[0;31m     \u001b[0;32mif\u001b[0m \u001b[0ms\u001b[0m \u001b[0;32min\u001b[0m \u001b[0md\u001b[0m\u001b[0;34m:\u001b[0m\u001b[0;34m\u001b[0m\u001b[0;34m\u001b[0m\u001b[0m\n\u001b[0m\u001b[1;32m     11\u001b[0m         \u001b[0mindices\u001b[0m \u001b[0;34m=\u001b[0m \u001b[0md\u001b[0m\u001b[0;34m[\u001b[0m\u001b[0ms\u001b[0m\u001b[0;34m]\u001b[0m\u001b[0;34m\u001b[0m\u001b[0;34m\u001b[0m\u001b[0m\n\u001b[1;32m     12\u001b[0m         \u001b[0mprint\u001b[0m\u001b[0;34m(\u001b[0m\u001b[0;34m'\\n\\nThe seed at index: '\u001b[0m \u001b[0;34m+\u001b[0m \u001b[0mstr\u001b[0m\u001b[0;34m(\u001b[0m\u001b[0mz\u001b[0m\u001b[0;34m)\u001b[0m\u001b[0;34m+\u001b[0m \u001b[0;34m' is: '\u001b[0m \u001b[0;34m+\u001b[0m \u001b[0ms\u001b[0m\u001b[0;34m)\u001b[0m\u001b[0;34m\u001b[0m\u001b[0;34m\u001b[0m\u001b[0m\n",
      "\u001b[0;31mNameError\u001b[0m: name 'd' is not defined"
     ]
    }
   ],
   "source": [
    "top_score = [0] * len(r1_list)\n",
    "\n",
    "for z in range(len(r1_list)):    \n",
    "# for z in range(100,200):\n",
    "    read = r1_list[z]\n",
    "    correct = 0\n",
    "    ref = ''\n",
    "\n",
    "    s = read[:11]\n",
    "    if s in d:\n",
    "        indices = d[s]\n",
    "        print('\\n\\nThe seed at index: ' + str(z)+ ' is: ' + s)\n",
    "        print('There are ' + str(len(indices)) + ' matches for read at index: ' + str(z))\n",
    "        for index in indices:\n",
    "            ref = reference_str[index:index+len(read)]\n",
    "            for x in range(len(ref)):\n",
    "                if ref[x] == read[x] or read[x] == 'N' or ref[x] == 'N':           \n",
    "                    correct = correct + 1\n",
    "            perc = (correct / len(ref)) * 100\n",
    "            if perc > top_score[z]:\n",
    "                top_score[z] = perc\n",
    "            \n",
    "            correct = 0\n",
    "            ref = ''\n",
    "            if top_score[z] == 100:\n",
    "                break\n",
    "    else:\n",
    "        print('no match found for index:' + str(z) )"
   ]
  },
  {
   "cell_type": "code",
   "execution_count": 12,
   "metadata": {},
   "outputs": [],
   "source": [
    "# top_score"
   ]
  },
  {
   "cell_type": "code",
   "execution_count": 48,
   "metadata": {},
   "outputs": [
    {
     "data": {
      "image/png": "[encoded data removed]",
      "text/plain": [
       "<Figure size 432x288 with 1 Axes>"
      ]
     },
     "metadata": {
      "needs_background": "light"
     },
     "output_type": "display_data"
    }
   ],
   "source": [
    "plt.plot(top_score)\n",
    "plt.axis(ymin=100 , ymax= 0)\n",
    "plt.show()"
   ]
  },
  {
   "cell_type": "code",
   "execution_count": 61,
   "metadata": {},
   "outputs": [
    {
     "data": {
      "text/plain": [
       "{'whiskers': [<matplotlib.lines.Line2D at 0x30f1d928c8>,\n",
       "  <matplotlib.lines.Line2D at 0x30f1d92f08>],\n",
       " 'caps': [<matplotlib.lines.Line2D at 0x30f1d92c88>,\n",
       "  <matplotlib.lines.Line2D at 0x30f1d97b48>],\n",
       " 'boxes': [<matplotlib.lines.Line2D at 0x30f1d8afc8>],\n",
       " 'medians': [<matplotlib.lines.Line2D at 0x30f1d97908>],\n",
       " 'fliers': [<matplotlib.lines.Line2D at 0x30f1d97f08>],\n",
       " 'means': []}"
      ]
     },
     "execution_count": 61,
     "metadata": {},
     "output_type": "execute_result"
    },
    {
     "data": {
      "image/png": "[encoded data removed]",
      "text/plain": [
       "<Figure size 432x288 with 1 Axes>"
      ]
     },
     "metadata": {
      "needs_background": "light"
     },
     "output_type": "display_data"
    }
   ],
   "source": [
    "fig1, ax1 = plt.subplots()\n",
    "ax1.set_title('Accuracy Box Plot')\n",
    "ax1.set_ylabel('Percentage')\n",
    "ax1.set_xlabel('ReadMap')\n",
    "ax1.boxplot(top_score)"
   ]
  },
  {
   "cell_type": "code",
   "execution_count": 60,
   "metadata": {},
   "outputs": [
    {
     "name": "stdout",
     "output_type": "stream",
     "text": [
      "Mean: 85.29570033781314\n",
      "Median: 100.0\n",
      "The 1st percentile is:   36.84210526315789\n",
      "The 10th percentile is:  43.42105263157895\n",
      "The 20th percentile is:  50.0\n",
      "The 30th percentile is:  93.42105263157895\n",
      "The 40th percentile is:  98.68421052631578\n",
      "The 50th percentile is:  100.0\n",
      "The 60th percentile is:  100.0\n",
      "The 70th percentile is:  100.0\n",
      "The 80th percentile is:  100.0\n",
      "The 90th percentile is:  100.0\n",
      "The 100th percentile is: 100.0\n"
     ]
    }
   ],
   "source": [
    "import numpy as np\n",
    "#mean value\n",
    "mean= np.mean(top_score)\n",
    "#median value\n",
    "median = np.median(top_score)\n",
    "\n",
    "\n",
    "print('Mean: ' + str(mean))\n",
    "print('Median: ' + str(median))\n",
    "\n",
    "print(\"The 1st percentile is:   \" + str(np.percentile(top_score, 1)))\n",
    "print(\"The 10th percentile is:  \" + str(np.percentile(top_score, 10)))\n",
    "print(\"The 20th percentile is:  \" + str(np.percentile(top_score, 20)))\n",
    "print(\"The 30th percentile is:  \" + str(np.percentile(top_score, 30)))\n",
    "print(\"The 40th percentile is:  \" + str(np.percentile(top_score, 40)))\n",
    "print(\"The 50th percentile is:  \" + str(np.percentile(top_score, 50)))\n",
    "print(\"The 60th percentile is:  \" + str(np.percentile(top_score, 60)))\n",
    "print(\"The 70th percentile is:  \" + str(np.percentile(top_score, 70)))\n",
    "print(\"The 80th percentile is:  \" + str(np.percentile(top_score, 80)))\n",
    "print(\"The 90th percentile is:  \" + str(np.percentile(top_score, 90)))\n",
    "print(\"The 100th percentile is: \" + str(np.percentile(top_score, 100)))"
   ]
  }
 ],
 "metadata": {
  "kernelspec": {
   "name": "python385jvsc74a57bd0aee8b7b246df8f9039afb4144a1f6fd8d2ca17a180786b69acc140d282b71a49",
   "display_name": "Python 3.8.5 64-bit"
  },
  "language_info": {
   "codemirror_mode": {
    "name": "ipython",
    "version": 3
   },
   "file_extension": ".py",
   "mimetype": "text/x-python",
   "name": "python",
   "nbconvert_exporter": "python",
   "pygments_lexer": "ipython3",
   "version": "3.8.5"
  }
 },
 "nbformat": 4,
 "nbformat_minor": 4
}