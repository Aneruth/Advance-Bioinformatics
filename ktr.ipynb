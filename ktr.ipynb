{
 "metadata": {
  "language_info": {
   "codemirror_mode": {
    "name": "ipython",
    "version": 3
   },
   "file_extension": ".py",
   "mimetype": "text/x-python",
   "name": "python",
   "nbconvert_exporter": "python",
   "pygments_lexer": "ipython3",
   "version": "3.8.5"
  },
  "orig_nbformat": 2,
  "kernelspec": {
   "name": "python385jvsc74a57bd0aee8b7b246df8f9039afb4144a1f6fd8d2ca17a180786b69acc140d282b71a49",
   "display_name": "Python 3.8.5 64-bit"
  }
 },
 "nbformat": 4,
 "nbformat_minor": 2,
 "cells": [
  {
   "cell_type": "code",
   "execution_count": 1,
   "metadata": {},
   "outputs": [],
   "source": [
    "import math,numpy as np,pandas as pd"
   ]
  },
  {
   "cell_type": "code",
   "execution_count": null,
   "metadata": {},
   "outputs": [],
   "source": [
    "# Reading datasets\n",
    "cath = pd.read_csv(dataset_path,delimiter = \"\\t\",header=None, names=[\"PDB_CODE\", \"CHAIN_CODE\", \"Prediction\"])\n",
    "\n",
    "dssp = pd.read_csv(dataset_path', delimiter = \"\\t\",header=None, names=[\"PDB_CODE\", \"CHAIN_CODE\", \"SEQ_POS\",\"AMMINO_ACID\",\"Prediction\"])\n",
    "\n",
    "stride = pd.read_csv(dataset_path,delimiter = \"\\t\",header=None, names=[\"PDB_CODE\", \"CHAIN_CODE\", \"SEQ_POS\",\"AMMINO_ACID\",\"Prediction\"])"
   ]
  },
  {
   "cell_type": "code",
   "execution_count": null,
   "metadata": {},
   "outputs": [],
   "source": [
    "# Print the datasets\n",
    "stride.head()\n",
    "dssp.head()\n",
    "cath.head()"
   ]
  },
  {
   "cell_type": "code",
   "execution_count": null,
   "metadata": {},
   "outputs": [],
   "source": [
    "# To count the acids present \n",
    "stru_dict = {'H': 0, 'E': 1, 'C': 2}\n",
    "\n",
    "stru_list = ['H', 'E', 'C']\n",
    "\n",
    "amino_dict = {'ALA': 0, 'ARG': 1, 'ASN': 2, 'ASP': 3, 'CYS': 4, 'GLU': 5, 'GLN': 6, 'GLY': 7, 'HIS': 8,\n",
    "           'ILE': 9, 'LEU': 10, 'LYS': 11, 'MET': 12, 'PHE': 13, 'PRO': 14, 'SER': 15, 'THR': 16,\n",
    "           'TRP': 17, 'TYR': 18, 'VAL': 19}\n",
    "\n",
    "amino_list = ['ALA', 'ARG', 'ASN', 'ASP', 'CYS', 'GLU', 'GLN', 'GLY', 'HIS', 'ILE', 'LEU','LYS',\n",
    "              'MET', 'PHE', 'PRO', 'SER', 'THR', 'TRP', 'TYR', 'VAL']\n",
    "\n",
    "amino_count = {'ALA': 0, 'ARG': 0, 'ASN': 0, 'ASP': 0, 'CYS': 0, 'GLU': 0, 'GLN': 0, 'GLY': 0, 'HIS': 0,\n",
    "           'ILE': 0, 'LEU': 0, 'LYS': 0, 'MET': 0, 'PHE': 0, 'PRO': 0, 'SER': 0, 'THR': 0,\n",
    "           'TRP': 0, 'TYR': 0, 'VAL': 0}\n"
   ]
  },
  {
   "cell_type": "code",
   "execution_count": null,
   "metadata": {},
   "outputs": [],
   "source": [
    "# Change \"aList\" to desired pandas columns. \n",
    "def structure_type(alist):\n",
    "    blist = []\n",
    "    h_count = 0\n",
    "    b_count = 0\n",
    "    c_count = 0\n",
    "    for row in alist:\n",
    "        if row[3] in amino_list:\n",
    "            c = amino_count.get(row[3])\n",
    "            c += 1\n",
    "            amino_count.update({row[3]: c})\n",
    "            if row[4] == 'Helix':\n",
    "                row[-1] = 'H'\n",
    "                h_count += 1\n",
    "            elif row[4] == 'Beta':\n",
    "                row[-1] = 'E'\n",
    "                b_count += 1\n",
    "            elif row[4] == 'Coil' or row[4] == 'Other':\n",
    "                row[-1] = 'C'\n",
    "                c_count += 1\n",
    "            blist.append(row)\n",
    "    print('The Helix count is: ' + str(h_count))\n",
    "    print('The Beta count is: ' + str(b_count))\n",
    "    print('The Coil count is: ' + str(c_count))\n",
    "    print(amino_count)\n",
    "    return blist"
   ]
  },
  {
   "cell_type": "code",
   "execution_count": null,
   "metadata": {},
   "outputs": [],
   "source": [
    "# Classifying the amino acid present \n",
    "print('The division of structure type in the STRIDE dataset is as follows: ')\n",
    "stride_list = structure_type(stride_list)\n",
    "amino_count = {'ALA': 0, 'ARG': 0, 'ASN': 0, 'ASP': 0, 'CYS': 0, 'GLU': 0, 'GLN': 0, 'GLY': 0, 'HIS': 0,\n",
    "           'ILE': 0, 'LEU': 0, 'LYS': 0, 'MET': 0, 'PHE': 0, 'PRO': 0, 'SER': 0, 'THR': 0,\n",
    "           'TRP': 0, 'TYR': 0, 'VAL': 0}\n",
    "print('The division of structure type in the DSSP dataset is as follows: ')\n",
    "dssp_list = structure_type(dssp_list)"
   ]
  },
  {
   "source": [
    "# Rest same as our sample code given."
   ],
   "cell_type": "markdown",
   "metadata": {}
  }
 ]
}