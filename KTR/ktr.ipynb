{
 "metadata": {
  "language_info": {
   "codemirror_mode": {
    "name": "ipython",
    "version": 3
   },
   "file_extension": ".py",
   "mimetype": "text/x-python",
   "name": "python",
   "nbconvert_exporter": "python",
   "pygments_lexer": "ipython3",
   "version": "3.8.5"
  },
  "orig_nbformat": 2,
  "kernelspec": {
   "name": "python385jvsc74a57bd0aee8b7b246df8f9039afb4144a1f6fd8d2ca17a180786b69acc140d282b71a49",
   "display_name": "Python 3.8.5 64-bit"
  }
 },
 "nbformat": 4,
 "nbformat_minor": 2,
 "cells": [
  {
   "cell_type": "code",
   "execution_count": 1,
   "metadata": {},
   "outputs": [],
   "source": [
    "from math import *\n",
    "import pandas as pd"
   ]
  },
  {
   "cell_type": "code",
   "execution_count": 2,
   "metadata": {},
   "outputs": [],
   "source": [
    "# Reading datasets\n",
    "cath = pd.read_csv(\"/Users/aneruthmohanasundaram/Documents/GitHub/Amino-Acid-Prediction/Assignment 1/Datasets/cath_info.txt\",delimiter = \"\\t\",header=None, names=[\"PDB_CODE\", \"CHAIN_CODE\", \"Prediction\"])\n",
    "\n",
    "dssp = pd.read_csv(\"/Users/aneruthmohanasundaram/Documents/GitHub/Amino-Acid-Prediction/Assignment 1/Datasets/dssp_info.txt\", delimiter = \"\\t\",header=None, names=[\"PDB_CODE\", \"CHAIN_CODE\", \"SEQ_POS\",\"AMMINO_ACID\",\"Prediction\"])\n",
    "\n",
    "stride = pd.read_csv(\"/Users/aneruthmohanasundaram/Documents/GitHub/Amino-Acid-Prediction/Assignment 1/Datasets/stride_info.txt\",delimiter = \"\\t\",header=None, names=[\"PDB_CODE\", \"CHAIN_CODE\", \"SEQ_POS\",\"AMMINO_ACID\",\"Prediction\"])\n",
    "\n",
    "# Assigning the names \n",
    "dssp.name = \"DSSP\"\n",
    "stride.name = \"STRIDE\""
   ]
  },
  {
   "cell_type": "code",
   "execution_count": 3,
   "metadata": {},
   "outputs": [],
   "source": [
    "# To count the acids present \n",
    "stru_dict = {'H': 0, 'E': 1, 'C': 2}\n",
    "\n",
    "stru_list = ['H', 'E', 'C']\n",
    "\n",
    "amino_dict = {'ALA': 'A', 'ARG': 'R', 'ASN': 'N', 'ASP': 'D', 'CYS': 'C', 'GLU': 'E', 'GLN': 'Q', 'GLY': 'G', 'HIS': 'H','ILE': 'I', 'LEU': 'L', 'LYS': 'K', 'MET': 'M', 'PHE': 'F', 'PRO': 'P', 'SER': 'S', 'THR': 'T','TRP': 'W', 'TYR': 'Y', 'VAL': 'V'}\n",
    "\n",
    "amino_count = {'ALA': 0, 'ARG': 0, 'ASN': 0, 'ASP': 0, 'CYS': 0, 'GLU': 0, 'GLN': 0, 'GLY': 0, 'HIS': 0,\n",
    "           'ILE': 0, 'LEU': 0, 'LYS': 0, 'MET': 0, 'PHE': 0, 'PRO': 0, 'SER': 0, 'THR': 0,\n",
    "           'TRP': 0, 'TYR': 0, 'VAL': 0}"
   ]
  },
  {
   "source": [
    "# Changing our prediction column into single letter character"
   ],
   "cell_type": "markdown",
   "metadata": {}
  },
  {
   "cell_type": "code",
   "execution_count": 4,
   "metadata": {},
   "outputs": [],
   "source": [
    "# Stride dataset\n",
    "stride.replace('Other','C',inplace=True)\n",
    "stride.replace('Beta','B',inplace=True)\n",
    "stride.replace('Helix','H',inplace=True)"
   ]
  },
  {
   "cell_type": "code",
   "execution_count": 5,
   "metadata": {},
   "outputs": [],
   "source": [
    "# Dssp dataset\n",
    "dssp.replace('Other','C',inplace=True)\n",
    "dssp.replace('Coil','C',inplace=True)\n",
    "dssp.replace('Beta','B',inplace=True)\n",
    "dssp.replace('Helix','H',inplace=True)"
   ]
  },
  {
   "source": [
    "# Check dataset head"
   ],
   "cell_type": "markdown",
   "metadata": {}
  },
  {
   "cell_type": "code",
   "execution_count": 49,
   "metadata": {},
   "outputs": [],
   "source": [
    "# print(\"Stide Dataset\")\n",
    "# print(stride.head())\n",
    "# print()\n",
    "# print(\"DSSP Dataset\")\n",
    "# print(dssp.head())\n",
    "# print()\n",
    "# print(\"Cath Dataset\")\n",
    "# print(cath.head())"
   ]
  },
  {
   "cell_type": "code",
   "execution_count": 50,
   "metadata": {},
   "outputs": [],
   "source": [
    "# Change \"aList\" to desired pandas columns. \n",
    "def structure_type(dataset):\n",
    "    blist = []\n",
    "    for row in dataset:\n",
    "        if row in amino_dict.keys():\n",
    "            c = amino_count.get(row)\n",
    "            c += 1\n",
    "            amino_count.update({row: c})\n",
    "            blist.append(row)\n",
    "    print(amino_count)\n",
    "    return blist\n",
    "\n",
    "def count_values(dataset):\n",
    "    h_count = dataset.query('Prediction == \"H\"').Prediction.count()\n",
    "    b_count = dataset.query('Prediction == \"B\"').Prediction.count()\n",
    "    c_count = dataset.query('Prediction == \"C\"').Prediction.count()\n",
    "    fs = {} \n",
    "    fs['Helix'] = h_count\n",
    "    fs['Beta'] = b_count\n",
    "    fs['Coil'] = c_count\n",
    "    return fs"
   ]
  },
  {
   "source": [
    "# Classifying the amino acid present "
   ],
   "cell_type": "markdown",
   "metadata": {}
  },
  {
   "cell_type": "code",
   "execution_count": 51,
   "metadata": {},
   "outputs": [
    {
     "output_type": "stream",
     "name": "stdout",
     "text": [
      "The division of structure type in the STRIDE dataset is as follows: \n{'ALA': 5963, 'ARG': 3665, 'ASN': 3053, 'ASP': 4244, 'CYS': 1103, 'GLU': 4816, 'GLN': 2849, 'GLY': 5119, 'HIS': 1715, 'ILE': 4034, 'LEU': 6449, 'LYS': 4213, 'MET': 1260, 'PHE': 2890, 'PRO': 3181, 'SER': 4148, 'THR': 3937, 'TRP': 1007, 'TYR': 2467, 'VAL': 4960}\n\nThe division of structure type in the DSSP dataset is as follows: \n{'ALA': 11924, 'ARG': 7330, 'ASN': 6106, 'ASP': 8486, 'CYS': 1729, 'GLU': 9631, 'GLN': 5698, 'GLY': 10235, 'HIS': 3431, 'ILE': 8068, 'LEU': 12898, 'LYS': 8425, 'MET': 2521, 'PHE': 5780, 'PRO': 6362, 'SER': 8294, 'THR': 7874, 'TRP': 2014, 'TYR': 4934, 'VAL': 9920}\n\nCount for STRIDE data set\n{'Helix': 25755, 'Beta': 16148, 'Coil': 29174}\n\nCount for DSSP data set\n{'Helix': 25080, 'Beta': 15888, 'Coil': 30423}\n"
     ]
    }
   ],
   "source": [
    "print('The division of structure type in the STRIDE dataset is as follows: ')\n",
    "stride_list = structure_type(list(stride['AMMINO_ACID']))\n",
    "print()\n",
    "print('The division of structure type in the DSSP dataset is as follows: ')\n",
    "dssp_list = structure_type(list(dssp['AMMINO_ACID']))\n",
    "protien_family = list(set(dssp['PDB_CODE']))\n",
    "\n",
    "print()\n",
    "# The total count of structure preset in each dataset as follows \n",
    "print('Count for STRIDE data set')\n",
    "print(count_values(stride))\n",
    "print()\n",
    "print('Count for DSSP data set')\n",
    "print(count_values(dssp))"
   ]
  },
  {
   "cell_type": "code",
   "execution_count": 52,
   "metadata": {},
   "outputs": [],
   "source": [
    "# Change the acid value \n",
    "dssp.AMMINO_ACID.replace(amino_dict.keys(),amino_dict.values(),inplace=True)\n",
    "stride.AMMINO_ACID.replace(amino_dict.keys(),amino_dict.values(),inplace=True)"
   ]
  },
  {
   "source": [
    "# GOR Implementation"
   ],
   "cell_type": "markdown",
   "metadata": {}
  },
  {
   "cell_type": "code",
   "execution_count": 105,
   "metadata": {},
   "outputs": [],
   "source": [
    "# We define this function because to iterate over each data row in pandas consumes lots of time so we convert it to a mested list\n",
    "def fileRead(file_name):\n",
    "    return [list(i) for i in file_name.values]"
   ]
  },
  {
   "cell_type": "code",
   "execution_count": 106,
   "metadata": {},
   "outputs": [],
   "source": [
    "# Cerate a self info function\n",
    "def self_info(dataset,pdb):\n",
    "    self_info_val = {}\n",
    "    fs = count_values(dataset)\n",
    "    helix_fs = fs['Helix']\n",
    "    sheet_fs = fs['Beta']\n",
    "    coil_fs = fs['Coil']\n",
    "\n",
    "    for idx,row in dataset.iterrows():\n",
    "        if row[0] == pdb:\n",
    "            curr = row[3]\n",
    "            if row[3] in list(amino_dict.values()):\n",
    "                helix_fsr,sheet_fsr,coil_fsr = 0,0,0\n",
    "            \n",
    "            for idx,other in dataset.iterrows():\n",
    "                if other[0] != pdb:\n",
    "                    if other[3] == curr:\n",
    "                        if other[4] == 'H':\n",
    "                            helix_fsr += 1\n",
    "                        if other[4] == 'B':\n",
    "                            sheet_fsr += 1\n",
    "                        if other[4] == 'C':\n",
    "                            coil_fsr += 1\n",
    "            helix_i = log(helix_fsr / ((helix_fsr + sheet_fsr + coil_fsr) - helix_fsr)) + log((sheet_fs + coil_fs) / helix_fs)\n",
    "            sheet_i = log(sheet_fsr / ((helix_fsr + sheet_fsr + coil_fsr) - sheet_fsr)) + log((helix_fs + coil_fs) / sheet_fs)\n",
    "            coil_i = log(coil_fsr / ((helix_fsr + sheet_fsr + coil_fsr) - coil_fsr)) + log((helix_fs + sheet_fs) / coil_fs)\n",
    "            \n",
    "            self_info_val[curr] = (helix_i, sheet_i, coil_i)\n",
    "    return self_info_val"
   ]
  },
  {
   "cell_type": "code",
   "execution_count": 107,
   "metadata": {},
   "outputs": [],
   "source": [
    "def _calc_pair_info(dataset,pdb):\n",
    "    '''\n",
    "    Made to calculate acid pair information.\n",
    "    Returns dictionary {acid:{position:{acid:(helix_info, sheet_info, coil_info)}}}\n",
    "    '''\n",
    "    # acids_list = self.acids[:]\n",
    "    pair_info = {}\n",
    "    # rows,cols = dataset.shape\n",
    "    \n",
    "    fs = count_values(stride)\n",
    "    helix_fs = fs['Helix']\n",
    "    sheet_fs = fs['Beta']\n",
    "    coil_fs = fs['Coil']\n",
    "    \n",
    "    for current_acid in list(amino_dict.values()):\n",
    "        '''loop over 20 natural amino acids'''\n",
    "        acid_dict = {}\n",
    "        \n",
    "        for m in [-8,-7,-6,-5,-4,-3,-2,-1,0,1,2,3,4,5,6,7,8]:\n",
    "            '''loop over 16 neighbors'''\n",
    "            position_dict = {}\n",
    "            \n",
    "            \n",
    "            for pair_acid in list(amino_dict.values()):\n",
    "                '''loop over 20 natural amino acids'''\n",
    "                    \n",
    "                helix_fsr = 0\n",
    "                sheet_fsr = 0\n",
    "                coil_fsr = 0\n",
    "                \n",
    "                for i in range(len(dataset) - 8):\n",
    "                    '''loop over all rest recidues'''\n",
    "                    if pair_acid == dataset[i+m][3] and dataset[i+m][0] == dataset[i][0] and dataset[i][0] != pdb and dataset[i][3] == current_acid:\n",
    "                        if dataset[i][4] == 'H':\n",
    "                            helix_fsr += 1\n",
    "                        if dataset[i][4] == 'B':\n",
    "                            sheet_fsr += 1\n",
    "                        if dataset[i][4] == 'C':\n",
    "                            coil_fsr += 1\n",
    "\n",
    "                if ((helix_fsr + sheet_fsr + coil_fsr) - helix_fsr) != 0:\n",
    "                    helix_log_arg = helix_fsr / ((helix_fsr + sheet_fsr + coil_fsr) - helix_fsr)\n",
    "                else:\n",
    "                    helix_log_arg = 1\n",
    "\n",
    "                if ((helix_fsr + sheet_fsr + coil_fsr) - sheet_fsr) != 0:\n",
    "                    sheet_log_arg = sheet_fsr / ((helix_fsr + sheet_fsr + coil_fsr) - sheet_fsr)\n",
    "                else:\n",
    "                    sheet_log_arg = 1\n",
    "\n",
    "                if ((helix_fsr + sheet_fsr + coil_fsr) - coil_fsr) != 0:\n",
    "                    coil_log_arg = coil_fsr / ((helix_fsr + sheet_fsr + coil_fsr) - coil_fsr)\n",
    "                else:\n",
    "                    coil_log_arg = 1\n",
    "\n",
    "                helix_i = log(helix_log_arg if helix_log_arg > 0 else 1) + log((sheet_fs + coil_fs) / helix_fs)\n",
    "                sheet_i = log(sheet_log_arg if sheet_log_arg > 0 else 1) + log((helix_fs + coil_fs) / sheet_fs)\n",
    "                coil_i = log(coil_log_arg if coil_log_arg > 0 else 1) + log((helix_fs + sheet_fs) / coil_fs)\n",
    "\n",
    "                position_dict[pair_acid] = (helix_i, sheet_i, coil_i)\n",
    "            \n",
    "            acid_dict[m] = position_dict\n",
    "        pair_info[current_acid] = acid_dict\n",
    "    \n",
    "    return pair_info"
   ]
  },
  {
   "cell_type": "code",
   "execution_count": 113,
   "metadata": {},
   "outputs": [],
   "source": [
    "def sec_struc_prediction(dataset,PDB_code):\n",
    "    '''\n",
    "    Returns a secondary stucture prediction of the protein as a list:\n",
    "    [PDB_code, the secondary structure prediction, Q3]\n",
    "    '''\n",
    "    selfinfo = self_info(dataset,PDB_code)\n",
    "    pairinfo = _calc_pair_info(dataset,PDB_code)\n",
    "    protein_list = [entry for entry in self.dataset if entry[0] == PDB_code]\n",
    "    protein = ''\n",
    "    structure_real = ''\n",
    "    prediction = [PDB_code]\n",
    "    structure_prediction = ''\n",
    "    \n",
    "    '''get the real protein secondary structure as a string'''\n",
    "    for acid in protein_list:\n",
    "        protein += acid[3]\n",
    "        \n",
    "        if acid[4] == 'H':\n",
    "            structure_real += 'H'\n",
    "        elif acid[4] == 'B':\n",
    "            structure_real += 'E'\n",
    "        elif acid[4] == 'C':\n",
    "            structure_real += 'C'\n",
    "    \n",
    "    # print(protein, structure_real)\n",
    "    \n",
    "    '''get the protein secondary stucture prediction as a string'''\n",
    "    for i in range(len(protein)):\n",
    "        helix = [selfinfo[protein[i]][0], 'H']\n",
    "        sheet = [selfinfo[protein[i]][1], 'E']\n",
    "        coil = [selfinfo[protein[i]][2], 'C']\n",
    "        \n",
    "        for m in [-8, -7, -6, -5, -4, -3, -2, -1, 1, 2, 3, 4, 5, 6, 7, 8]:\n",
    "            if i+m > 0 and i+m < len(protein):\n",
    "                helix[0] += pairinfo[protein[i]][m][protein[i+m]][0]\n",
    "                sheet[0] += pairinfo[protein[i]][m][protein[i+m]][1]\n",
    "                coil[0] += pairinfo[protein[i]][m][protein[i+m]][2]\n",
    "        \n",
    "        if max(helix[0], sheet[0], coil[0]) == helix[0]:\n",
    "            structure_prediction += helix[1]\n",
    "        if max(helix[0], sheet[0], coil[0]) == sheet[0]:\n",
    "            structure_prediction += sheet[1]\n",
    "        if max(helix[0], sheet[0], coil[0]) == coil[0]:\n",
    "            structure_prediction += coil[1]\n",
    "    \n",
    "    prediction.append(structure_prediction)\n",
    "    \n",
    "    '''Q3 calculation'''\n",
    "    recidues_predicted = 0\n",
    "    for i in range(len(structure_real)):\n",
    "        if structure_real[i] == structure_prediction[i]:\n",
    "            recidues_predicted += 1\n",
    "    \n",
    "    q3 = recidues_predicted / len(structure_real)\n",
    "    prediction.append(q3)\n",
    "    \n",
    "    return prediction"
   ]
  },
  {
   "cell_type": "code",
   "execution_count": 115,
   "metadata": {},
   "outputs": [
    {
     "output_type": "error",
     "ename": "KeyError",
     "evalue": "-8",
     "traceback": [
      "\u001b[0;31m---------------------------------------------------------------------------\u001b[0m",
      "\u001b[0;31mKeyError\u001b[0m                                  Traceback (most recent call last)",
      "\u001b[0;32m/Library/Frameworks/Python.framework/Versions/3.8/lib/python3.8/site-packages/pandas/core/indexes/base.py\u001b[0m in \u001b[0;36mget_loc\u001b[0;34m(self, key, method, tolerance)\u001b[0m\n\u001b[1;32m   3079\u001b[0m             \u001b[0;32mtry\u001b[0m\u001b[0;34m:\u001b[0m\u001b[0;34m\u001b[0m\u001b[0;34m\u001b[0m\u001b[0m\n\u001b[0;32m-> 3080\u001b[0;31m                 \u001b[0;32mreturn\u001b[0m \u001b[0mself\u001b[0m\u001b[0;34m.\u001b[0m\u001b[0m_engine\u001b[0m\u001b[0;34m.\u001b[0m\u001b[0mget_loc\u001b[0m\u001b[0;34m(\u001b[0m\u001b[0mcasted_key\u001b[0m\u001b[0;34m)\u001b[0m\u001b[0;34m\u001b[0m\u001b[0;34m\u001b[0m\u001b[0m\n\u001b[0m\u001b[1;32m   3081\u001b[0m             \u001b[0;32mexcept\u001b[0m \u001b[0mKeyError\u001b[0m \u001b[0;32mas\u001b[0m \u001b[0merr\u001b[0m\u001b[0;34m:\u001b[0m\u001b[0;34m\u001b[0m\u001b[0;34m\u001b[0m\u001b[0m\n",
      "\u001b[0;32mpandas/_libs/index.pyx\u001b[0m in \u001b[0;36mpandas._libs.index.IndexEngine.get_loc\u001b[0;34m()\u001b[0m\n",
      "\u001b[0;32mpandas/_libs/index.pyx\u001b[0m in \u001b[0;36mpandas._libs.index.IndexEngine.get_loc\u001b[0;34m()\u001b[0m\n",
      "\u001b[0;32mpandas/_libs/hashtable_class_helper.pxi\u001b[0m in \u001b[0;36mpandas._libs.hashtable.PyObjectHashTable.get_item\u001b[0;34m()\u001b[0m\n",
      "\u001b[0;32mpandas/_libs/hashtable_class_helper.pxi\u001b[0m in \u001b[0;36mpandas._libs.hashtable.PyObjectHashTable.get_item\u001b[0;34m()\u001b[0m\n",
      "\u001b[0;31mKeyError\u001b[0m: -8",
      "\nThe above exception was the direct cause of the following exception:\n",
      "\u001b[0;31mKeyError\u001b[0m                                  Traceback (most recent call last)",
      "\u001b[0;32m<ipython-input-115-c6ca2e1d8b96>\u001b[0m in \u001b[0;36m<module>\u001b[0;34m\u001b[0m\n\u001b[0;32m----> 1\u001b[0;31m \u001b[0msec_struc_prediction\u001b[0m\u001b[0;34m(\u001b[0m\u001b[0mstride\u001b[0m\u001b[0;34m,\u001b[0m\u001b[0mprotien_family\u001b[0m\u001b[0;34m)\u001b[0m\u001b[0;34m\u001b[0m\u001b[0;34m\u001b[0m\u001b[0m\n\u001b[0m",
      "\u001b[0;32m<ipython-input-113-9fbcbd8797fc>\u001b[0m in \u001b[0;36msec_struc_prediction\u001b[0;34m(dataset, PDB_code)\u001b[0m\n\u001b[1;32m      5\u001b[0m     '''\n\u001b[1;32m      6\u001b[0m     \u001b[0mselfinfo\u001b[0m \u001b[0;34m=\u001b[0m \u001b[0mself_info\u001b[0m\u001b[0;34m(\u001b[0m\u001b[0mdataset\u001b[0m\u001b[0;34m,\u001b[0m\u001b[0mPDB_code\u001b[0m\u001b[0;34m)\u001b[0m\u001b[0;34m\u001b[0m\u001b[0;34m\u001b[0m\u001b[0m\n\u001b[0;32m----> 7\u001b[0;31m     \u001b[0mpairinfo\u001b[0m \u001b[0;34m=\u001b[0m \u001b[0m_calc_pair_info\u001b[0m\u001b[0;34m(\u001b[0m\u001b[0mdataset\u001b[0m\u001b[0;34m,\u001b[0m\u001b[0mPDB_code\u001b[0m\u001b[0;34m)\u001b[0m\u001b[0;34m\u001b[0m\u001b[0;34m\u001b[0m\u001b[0m\n\u001b[0m\u001b[1;32m      8\u001b[0m     \u001b[0mprotein_list\u001b[0m \u001b[0;34m=\u001b[0m \u001b[0;34m[\u001b[0m\u001b[0mentry\u001b[0m \u001b[0;32mfor\u001b[0m \u001b[0mentry\u001b[0m \u001b[0;32min\u001b[0m \u001b[0mself\u001b[0m\u001b[0;34m.\u001b[0m\u001b[0mdataset\u001b[0m \u001b[0;32mif\u001b[0m \u001b[0mentry\u001b[0m\u001b[0;34m[\u001b[0m\u001b[0;36m0\u001b[0m\u001b[0;34m]\u001b[0m \u001b[0;34m==\u001b[0m \u001b[0mPDB_code\u001b[0m\u001b[0;34m]\u001b[0m\u001b[0;34m\u001b[0m\u001b[0;34m\u001b[0m\u001b[0m\n\u001b[1;32m      9\u001b[0m     \u001b[0mprotein\u001b[0m \u001b[0;34m=\u001b[0m \u001b[0;34m''\u001b[0m\u001b[0;34m\u001b[0m\u001b[0;34m\u001b[0m\u001b[0m\n",
      "\u001b[0;32m<ipython-input-107-1ee422303e93>\u001b[0m in \u001b[0;36m_calc_pair_info\u001b[0;34m(dataset, pdb)\u001b[0m\n\u001b[1;32m     31\u001b[0m                 \u001b[0;32mfor\u001b[0m \u001b[0mi\u001b[0m \u001b[0;32min\u001b[0m \u001b[0mrange\u001b[0m\u001b[0;34m(\u001b[0m\u001b[0mlen\u001b[0m\u001b[0;34m(\u001b[0m\u001b[0mdataset\u001b[0m\u001b[0;34m)\u001b[0m \u001b[0;34m-\u001b[0m \u001b[0;36m8\u001b[0m\u001b[0;34m)\u001b[0m\u001b[0;34m:\u001b[0m\u001b[0;34m\u001b[0m\u001b[0;34m\u001b[0m\u001b[0m\n\u001b[1;32m     32\u001b[0m                     \u001b[0;34m'''loop over all rest recidues'''\u001b[0m\u001b[0;34m\u001b[0m\u001b[0;34m\u001b[0m\u001b[0m\n\u001b[0;32m---> 33\u001b[0;31m                     \u001b[0;32mif\u001b[0m \u001b[0mpair_acid\u001b[0m \u001b[0;34m==\u001b[0m \u001b[0mdataset\u001b[0m\u001b[0;34m[\u001b[0m\u001b[0mi\u001b[0m\u001b[0;34m+\u001b[0m\u001b[0mm\u001b[0m\u001b[0;34m]\u001b[0m\u001b[0;34m[\u001b[0m\u001b[0;36m3\u001b[0m\u001b[0;34m]\u001b[0m \u001b[0;32mand\u001b[0m \u001b[0mdataset\u001b[0m\u001b[0;34m[\u001b[0m\u001b[0mi\u001b[0m\u001b[0;34m+\u001b[0m\u001b[0mm\u001b[0m\u001b[0;34m]\u001b[0m\u001b[0;34m[\u001b[0m\u001b[0;36m0\u001b[0m\u001b[0;34m]\u001b[0m \u001b[0;34m==\u001b[0m \u001b[0mdataset\u001b[0m\u001b[0;34m[\u001b[0m\u001b[0mi\u001b[0m\u001b[0;34m]\u001b[0m\u001b[0;34m[\u001b[0m\u001b[0;36m0\u001b[0m\u001b[0;34m]\u001b[0m \u001b[0;32mand\u001b[0m \u001b[0mdataset\u001b[0m\u001b[0;34m[\u001b[0m\u001b[0mi\u001b[0m\u001b[0;34m]\u001b[0m\u001b[0;34m[\u001b[0m\u001b[0;36m0\u001b[0m\u001b[0;34m]\u001b[0m \u001b[0;34m!=\u001b[0m \u001b[0mpdb\u001b[0m \u001b[0;32mand\u001b[0m \u001b[0mdataset\u001b[0m\u001b[0;34m[\u001b[0m\u001b[0mi\u001b[0m\u001b[0;34m]\u001b[0m\u001b[0;34m[\u001b[0m\u001b[0;36m3\u001b[0m\u001b[0;34m]\u001b[0m \u001b[0;34m==\u001b[0m \u001b[0mcurrent_acid\u001b[0m\u001b[0;34m:\u001b[0m\u001b[0;34m\u001b[0m\u001b[0;34m\u001b[0m\u001b[0m\n\u001b[0m\u001b[1;32m     34\u001b[0m                         \u001b[0;32mif\u001b[0m \u001b[0mdataset\u001b[0m\u001b[0;34m[\u001b[0m\u001b[0mi\u001b[0m\u001b[0;34m]\u001b[0m\u001b[0;34m[\u001b[0m\u001b[0;36m4\u001b[0m\u001b[0;34m]\u001b[0m \u001b[0;34m==\u001b[0m \u001b[0;34m'H'\u001b[0m\u001b[0;34m:\u001b[0m\u001b[0;34m\u001b[0m\u001b[0;34m\u001b[0m\u001b[0m\n\u001b[1;32m     35\u001b[0m                             \u001b[0mhelix_fsr\u001b[0m \u001b[0;34m+=\u001b[0m \u001b[0;36m1\u001b[0m\u001b[0;34m\u001b[0m\u001b[0;34m\u001b[0m\u001b[0m\n",
      "\u001b[0;32m/Library/Frameworks/Python.framework/Versions/3.8/lib/python3.8/site-packages/pandas/core/frame.py\u001b[0m in \u001b[0;36m__getitem__\u001b[0;34m(self, key)\u001b[0m\n\u001b[1;32m   3022\u001b[0m             \u001b[0;32mif\u001b[0m \u001b[0mself\u001b[0m\u001b[0;34m.\u001b[0m\u001b[0mcolumns\u001b[0m\u001b[0;34m.\u001b[0m\u001b[0mnlevels\u001b[0m \u001b[0;34m>\u001b[0m \u001b[0;36m1\u001b[0m\u001b[0;34m:\u001b[0m\u001b[0;34m\u001b[0m\u001b[0;34m\u001b[0m\u001b[0m\n\u001b[1;32m   3023\u001b[0m                 \u001b[0;32mreturn\u001b[0m \u001b[0mself\u001b[0m\u001b[0;34m.\u001b[0m\u001b[0m_getitem_multilevel\u001b[0m\u001b[0;34m(\u001b[0m\u001b[0mkey\u001b[0m\u001b[0;34m)\u001b[0m\u001b[0;34m\u001b[0m\u001b[0;34m\u001b[0m\u001b[0m\n\u001b[0;32m-> 3024\u001b[0;31m             \u001b[0mindexer\u001b[0m \u001b[0;34m=\u001b[0m \u001b[0mself\u001b[0m\u001b[0;34m.\u001b[0m\u001b[0mcolumns\u001b[0m\u001b[0;34m.\u001b[0m\u001b[0mget_loc\u001b[0m\u001b[0;34m(\u001b[0m\u001b[0mkey\u001b[0m\u001b[0;34m)\u001b[0m\u001b[0;34m\u001b[0m\u001b[0;34m\u001b[0m\u001b[0m\n\u001b[0m\u001b[1;32m   3025\u001b[0m             \u001b[0;32mif\u001b[0m \u001b[0mis_integer\u001b[0m\u001b[0;34m(\u001b[0m\u001b[0mindexer\u001b[0m\u001b[0;34m)\u001b[0m\u001b[0;34m:\u001b[0m\u001b[0;34m\u001b[0m\u001b[0;34m\u001b[0m\u001b[0m\n\u001b[1;32m   3026\u001b[0m                 \u001b[0mindexer\u001b[0m \u001b[0;34m=\u001b[0m \u001b[0;34m[\u001b[0m\u001b[0mindexer\u001b[0m\u001b[0;34m]\u001b[0m\u001b[0;34m\u001b[0m\u001b[0;34m\u001b[0m\u001b[0m\n",
      "\u001b[0;32m/Library/Frameworks/Python.framework/Versions/3.8/lib/python3.8/site-packages/pandas/core/indexes/base.py\u001b[0m in \u001b[0;36mget_loc\u001b[0;34m(self, key, method, tolerance)\u001b[0m\n\u001b[1;32m   3080\u001b[0m                 \u001b[0;32mreturn\u001b[0m \u001b[0mself\u001b[0m\u001b[0;34m.\u001b[0m\u001b[0m_engine\u001b[0m\u001b[0;34m.\u001b[0m\u001b[0mget_loc\u001b[0m\u001b[0;34m(\u001b[0m\u001b[0mcasted_key\u001b[0m\u001b[0;34m)\u001b[0m\u001b[0;34m\u001b[0m\u001b[0;34m\u001b[0m\u001b[0m\n\u001b[1;32m   3081\u001b[0m             \u001b[0;32mexcept\u001b[0m \u001b[0mKeyError\u001b[0m \u001b[0;32mas\u001b[0m \u001b[0merr\u001b[0m\u001b[0;34m:\u001b[0m\u001b[0;34m\u001b[0m\u001b[0;34m\u001b[0m\u001b[0m\n\u001b[0;32m-> 3082\u001b[0;31m                 \u001b[0;32mraise\u001b[0m \u001b[0mKeyError\u001b[0m\u001b[0;34m(\u001b[0m\u001b[0mkey\u001b[0m\u001b[0;34m)\u001b[0m \u001b[0;32mfrom\u001b[0m \u001b[0merr\u001b[0m\u001b[0;34m\u001b[0m\u001b[0;34m\u001b[0m\u001b[0m\n\u001b[0m\u001b[1;32m   3083\u001b[0m \u001b[0;34m\u001b[0m\u001b[0m\n\u001b[1;32m   3084\u001b[0m         \u001b[0;32mif\u001b[0m \u001b[0mtolerance\u001b[0m \u001b[0;32mis\u001b[0m \u001b[0;32mnot\u001b[0m \u001b[0;32mNone\u001b[0m\u001b[0;34m:\u001b[0m\u001b[0;34m\u001b[0m\u001b[0;34m\u001b[0m\u001b[0m\n",
      "\u001b[0;31mKeyError\u001b[0m: -8"
     ]
    }
   ],
   "source": [
    "sec_struc_prediction(stride,protien_family)"
   ]
  },
  {
   "cell_type": "code",
   "execution_count": null,
   "metadata": {},
   "outputs": [],
   "source": []
  }
 ]
}