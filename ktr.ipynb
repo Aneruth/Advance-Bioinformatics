{
 "metadata": {
  "language_info": {
   "codemirror_mode": {
    "name": "ipython",
    "version": 3
   },
   "file_extension": ".py",
   "mimetype": "text/x-python",
   "name": "python",
   "nbconvert_exporter": "python",
   "pygments_lexer": "ipython3",
   "version": "3.8.5"
  },
  "orig_nbformat": 2,
  "kernelspec": {
   "name": "python385jvsc74a57bd0aee8b7b246df8f9039afb4144a1f6fd8d2ca17a180786b69acc140d282b71a49",
   "display_name": "Python 3.8.5 64-bit"
  }
 },
 "nbformat": 4,
 "nbformat_minor": 2,
 "cells": [
  {
   "cell_type": "code",
   "execution_count": 79,
   "metadata": {},
   "outputs": [],
   "source": [
    "import math,pandas as pd"
   ]
  },
  {
   "cell_type": "code",
   "execution_count": 71,
   "metadata": {},
   "outputs": [],
   "source": [
    "# Reading datasets\n",
    "cath = pd.read_csv(\"/Users/aneruthmohanasundaram/Documents/GitHub/Amino-Acid-Prediction/Assignment 1/Datasets/cath_info.txt\",delimiter = \"\\t\",header=None, names=[\"PDB_CODE\", \"CHAIN_CODE\", \"Prediction\"])\n",
    "\n",
    "dssp = pd.read_csv(\"/Users/aneruthmohanasundaram/Documents/GitHub/Amino-Acid-Prediction/Assignment 1/Datasets/dssp_info.txt\", delimiter = \"\\t\",header=None, names=[\"PDB_CODE\", \"CHAIN_CODE\", \"SEQ_POS\",\"AMMINO_ACID\",\"Prediction\"])\n",
    "\n",
    "stride = pd.read_csv(\"/Users/aneruthmohanasundaram/Documents/GitHub/Amino-Acid-Prediction/Assignment 1/Datasets/stride_info.txt\",delimiter = \"\\t\",header=None, names=[\"PDB_CODE\", \"CHAIN_CODE\", \"SEQ_POS\",\"AMMINO_ACID\",\"Prediction\"])\n",
    "\n",
    "# Assigning the names \n",
    "dssp.name = \"DSSP\"\n",
    "stride.name = \"STRIDE\""
   ]
  },
  {
   "cell_type": "code",
   "execution_count": 72,
   "metadata": {},
   "outputs": [],
   "source": [
    "# To count the acids present \n",
    "stru_dict = {'H': 0, 'E': 1, 'C': 2}\n",
    "\n",
    "stru_list = ['H', 'E', 'C']\n",
    "\n",
    "amino_dict = {'ALA': 0, 'ARG': 1, 'ASN': 2, 'ASP': 3, 'CYS': 4, 'GLU': 5, 'GLN': 6, 'GLY': 7, 'HIS': 8,\n",
    "           'ILE': 9, 'LEU': 10, 'LYS': 11, 'MET': 12, 'PHE': 13, 'PRO': 14, 'SER': 15, 'THR': 16,\n",
    "           'TRP': 17, 'TYR': 18, 'VAL': 19}\n",
    "\n",
    "amino_list = ['ALA', 'ARG', 'ASN', 'ASP', 'CYS', 'GLU', 'GLN', 'GLY', 'HIS', 'ILE', 'LEU','LYS',\n",
    "              'MET', 'PHE', 'PRO', 'SER', 'THR', 'TRP', 'TYR', 'VAL']\n",
    "\n",
    "amino_count = {'ALA': 0, 'ARG': 0, 'ASN': 0, 'ASP': 0, 'CYS': 0, 'GLU': 0, 'GLN': 0, 'GLY': 0, 'HIS': 0,\n",
    "           'ILE': 0, 'LEU': 0, 'LYS': 0, 'MET': 0, 'PHE': 0, 'PRO': 0, 'SER': 0, 'THR': 0,\n",
    "           'TRP': 0, 'TYR': 0, 'VAL': 0}\n"
   ]
  },
  {
   "cell_type": "code",
   "execution_count": 78,
   "metadata": {},
   "outputs": [
    {
     "output_type": "stream",
     "name": "stdout",
     "text": [
      "Stide Dataset\n  PDB_CODE CHAIN_CODE  SEQ_POS AMMINO_ACID Prediction\n0     1w0n          A       12         ILE      Other\n1     1w0n          A       13         THR       Beta\n2     1w0n          A       14         LYS       Beta\n3     1w0n          A       15         VAL       Beta\n4     1w0n          A       16         GLU       Beta\n\nDSSP Dataset\n  PDB_CODE CHAIN_CODE  SEQ_POS AMMINO_ACID Prediction\n0     1w0n          A       12         ILE       Coil\n1     1w0n          A       13         THR       Beta\n2     1w0n          A       14         LYS       Beta\n3     1w0n          A       15         VAL       Beta\n4     1w0n          A       16         GLU       Beta\n\nCath Dataset\n  PDB_CODE CHAIN_CODE  Prediction\n0     1w0n          A        Beta\n1     2gpi          A  Alpha/beta\n2     1vbw          A  Alpha/beta\n3     2odk          A  Alpha/beta\n4     2zxy          A       Alpha\n"
     ]
    }
   ],
   "source": [
    "# Check dataset head\n",
    "print(\"Stide Dataset\")\n",
    "print(stride.head())\n",
    "print()\n",
    "print(\"DSSP Dataset\")\n",
    "print(dssp.head())\n",
    "print()\n",
    "print(\"Cath Dataset\")\n",
    "print(cath.head())"
   ]
  },
  {
   "cell_type": "code",
   "execution_count": 73,
   "metadata": {},
   "outputs": [],
   "source": [
    "# Change \"aList\" to desired pandas columns. \n",
    "def structure_type(dataset):\n",
    "    blist = []\n",
    "    for row in dataset:\n",
    "        if row in amino_list:\n",
    "            c = amino_count.get(row)\n",
    "            c += 1\n",
    "            amino_count.update({row: c})\n",
    "            # if row == 'Helix':\n",
    "            #     # row[-1] = 'H'\n",
    "            #     h_count += 1\n",
    "            # elif row == 'Beta':\n",
    "            #     # row[-1] = 'E'\n",
    "            #     b_count += 1\n",
    "            # elif row == 'Coil' or row == 'Other':\n",
    "            #     # row[-1] = 'C'\n",
    "            #     c_count += 1\n",
    "            blist.append(row)\n",
    "    print(amino_count)\n",
    "    return blist\n",
    "\n",
    "def count_values(dataset):\n",
    "    h_count = dataset.query('Prediction == \"Helix\"').Prediction.count()\n",
    "    b_count = dataset.query('Prediction == \"Beta\"').Prediction.count()\n",
    "    c_count = dataset.query('Prediction == \"Other\"' or 'Prediction == \"Coil\"').Prediction.count()\n",
    "    print(f\"{dataset.name} Structures Count:\")\n",
    "    print('The Helix count is: ' + str(h_count))\n",
    "    print('The Beta count is: ' + str(b_count))\n",
    "    print('The Coil count is: ' + str(c_count))"
   ]
  },
  {
   "cell_type": "code",
   "execution_count": 76,
   "metadata": {},
   "outputs": [
    {
     "output_type": "stream",
     "name": "stdout",
     "text": [
      "The division of structure type in the STRIDE dataset is as follows: \n{'ALA': 11924, 'ARG': 7330, 'ASN': 6106, 'ASP': 8486, 'CYS': 1729, 'GLU': 9631, 'GLN': 5698, 'GLY': 10235, 'HIS': 3431, 'ILE': 8068, 'LEU': 12898, 'LYS': 8425, 'MET': 2521, 'PHE': 5780, 'PRO': 6362, 'SER': 8294, 'THR': 7874, 'TRP': 2014, 'TYR': 4934, 'VAL': 9920}\n\nThe division of structure type in the DSSP dataset is as follows: \n{'ALA': 5961, 'ARG': 3665, 'ASN': 3053, 'ASP': 4242, 'CYS': 626, 'GLU': 4815, 'GLN': 2849, 'GLY': 5116, 'HIS': 1716, 'ILE': 4034, 'LEU': 6449, 'LYS': 4212, 'MET': 1261, 'PHE': 2890, 'PRO': 3181, 'SER': 4146, 'THR': 3937, 'TRP': 1007, 'TYR': 2467, 'VAL': 4960}\n\nSTRIDE Structures Count:\nThe Helix count is: 25755\nThe Beta count is: 16148\nThe Coil count is: 29174\n\nDSSP Structures Count:\nThe Helix count is: 25080\nThe Beta count is: 15888\nThe Coil count is: 16820\n"
     ]
    }
   ],
   "source": [
    "# Classifying the amino acid present \n",
    "print('The division of structure type in the STRIDE dataset is as follows: ')\n",
    "stride_list = structure_type(list(stride['AMMINO_ACID']))\n",
    "amino_count = {'ALA': 0, 'ARG': 0, 'ASN': 0, 'ASP': 0, 'CYS': 0, 'GLU': 0, 'GLN': 0, 'GLY': 0, 'HIS': 0,'ILE': 0, 'LEU': 0, 'LYS': 0,'MET': 0, 'PHE': 0, 'PRO': 0, 'SER': 0, 'THR': 0,'TRP': 0, 'TYR': 0, 'VAL': 0}\n",
    "\n",
    "print()\n",
    "print('The division of structure type in the DSSP dataset is as follows: ')\n",
    "dssp_list = structure_type(list(dssp['AMMINO_ACID']))\n",
    "\n",
    "print()\n",
    "count_values(stride)\n",
    "print()\n",
    "count_values(dssp)"
   ]
  },
  {
   "source": [
    "# Rest same as our sample code given."
   ],
   "cell_type": "markdown",
   "metadata": {}
  },
  {
   "cell_type": "code",
   "execution_count": null,
   "metadata": {},
   "outputs": [],
   "source": []
  }
 ]
}