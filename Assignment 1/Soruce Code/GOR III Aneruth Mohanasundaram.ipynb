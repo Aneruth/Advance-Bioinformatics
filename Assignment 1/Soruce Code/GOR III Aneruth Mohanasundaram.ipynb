{
 "metadata": {
  "language_info": {
   "codemirror_mode": {
    "name": "ipython",
    "version": 3
   },
   "file_extension": ".py",
   "mimetype": "text/x-python",
   "name": "python",
   "nbconvert_exporter": "python",
   "pygments_lexer": "ipython3",
   "version": "3.8.5"
  },
  "orig_nbformat": 2,
  "kernelspec": {
   "name": "python3",
   "display_name": "Python 3.8.5 64-bit",
   "metadata": {
    "interpreter": {
     "hash": "aee8b7b246df8f9039afb4144a1f6fd8d2ca17a180786b69acc140d282b71a49"
    }
   }
  }
 },
 "nbformat": 4,
 "nbformat_minor": 2,
 "cells": [
  {
   "source": [
    "# Importing required libraries\n",
    "import pandas as pd\n",
    "import math \n",
    "import seaborn as sns\n",
    "import matplotlib.pyplot as plt\n",
    "%matplotlib inline"
   ],
   "cell_type": "code",
   "metadata": {},
   "execution_count": 1,
   "outputs": []
  },
  {
   "cell_type": "code",
   "execution_count": 2,
   "metadata": {},
   "outputs": [],
   "source": [
    "# Load the dataset using pandas\n",
    "cath = pd.read_csv('/Users/aneruthmohanasundaram/Documents/GitHub/Amino-Acid-Prediction/Assignment 1/Datasets/cath_info.txt',delimiter = \"\\t\",header=None, names=[\"PDB_CODE\", \"CHAIN_CODE\", \"TYPE\"])\n",
    "\n",
    "dssp = pd.read_csv('/Users/aneruthmohanasundaram/Documents/GitHub/Amino-Acid-Prediction/Assignment 1/Datasets/dssp_info.txt', delimiter = \"\\t\",header=None, names=[\"PDB_CODE\", \"CHAIN_CODE\", \"SEQ_POS\",\"AMMINO_ACID\",\"TYPE\"])\n",
    "\n",
    "stride = pd.read_csv('/Users/aneruthmohanasundaram/Documents/GitHub/Amino-Acid-Prediction/Assignment 1/Datasets/stride_info.txt',delimiter = \"\\t\",header=None, names=[\"PDB_CODE\", \"CHAIN_CODE\", \"SEQ_POS\",\"AMMINO_ACID\",\"TYPE\"])"
   ]
  },
  {
   "source": [
    "# To check iniviual datasets"
   ],
   "cell_type": "markdown",
   "metadata": {}
  },
  {
   "source": [
    "## Ammino acid family dataset can be found in cath dataset"
   ],
   "cell_type": "markdown",
   "metadata": {}
  },
  {
   "cell_type": "code",
   "execution_count": 3,
   "metadata": {},
   "outputs": [
    {
     "output_type": "execute_result",
     "data": {
      "text/plain": [
       "  PDB_CODE CHAIN_CODE        TYPE\n",
       "0     1w0n          A        Beta\n",
       "1     2gpi          A  Alpha/beta\n",
       "2     1vbw          A  Alpha/beta\n",
       "3     2odk          A  Alpha/beta\n",
       "4     2zxy          A       Alpha"
      ],
      "text/html": "<div>\n<style scoped>\n    .dataframe tbody tr th:only-of-type {\n        vertical-align: middle;\n    }\n\n    .dataframe tbody tr th {\n        vertical-align: top;\n    }\n\n    .dataframe thead th {\n        text-align: right;\n    }\n</style>\n<table border=\"1\" class=\"dataframe\">\n  <thead>\n    <tr style=\"text-align: right;\">\n      <th></th>\n      <th>PDB_CODE</th>\n      <th>CHAIN_CODE</th>\n      <th>TYPE</th>\n    </tr>\n  </thead>\n  <tbody>\n    <tr>\n      <th>0</th>\n      <td>1w0n</td>\n      <td>A</td>\n      <td>Beta</td>\n    </tr>\n    <tr>\n      <th>1</th>\n      <td>2gpi</td>\n      <td>A</td>\n      <td>Alpha/beta</td>\n    </tr>\n    <tr>\n      <th>2</th>\n      <td>1vbw</td>\n      <td>A</td>\n      <td>Alpha/beta</td>\n    </tr>\n    <tr>\n      <th>3</th>\n      <td>2odk</td>\n      <td>A</td>\n      <td>Alpha/beta</td>\n    </tr>\n    <tr>\n      <th>4</th>\n      <td>2zxy</td>\n      <td>A</td>\n      <td>Alpha</td>\n    </tr>\n  </tbody>\n</table>\n</div>"
     },
     "metadata": {},
     "execution_count": 3
    }
   ],
   "source": [
    "cath.head()"
   ]
  },
  {
   "cell_type": "code",
   "execution_count": 4,
   "metadata": {},
   "outputs": [
    {
     "output_type": "execute_result",
     "data": {
      "text/plain": [
       "  PDB_CODE CHAIN_CODE  SEQ_POS AMMINO_ACID   TYPE\n",
       "0     1w0n          A       12         ILE  Other\n",
       "1     1w0n          A       13         THR   Beta\n",
       "2     1w0n          A       14         LYS   Beta\n",
       "3     1w0n          A       15         VAL   Beta\n",
       "4     1w0n          A       16         GLU   Beta"
      ],
      "text/html": "<div>\n<style scoped>\n    .dataframe tbody tr th:only-of-type {\n        vertical-align: middle;\n    }\n\n    .dataframe tbody tr th {\n        vertical-align: top;\n    }\n\n    .dataframe thead th {\n        text-align: right;\n    }\n</style>\n<table border=\"1\" class=\"dataframe\">\n  <thead>\n    <tr style=\"text-align: right;\">\n      <th></th>\n      <th>PDB_CODE</th>\n      <th>CHAIN_CODE</th>\n      <th>SEQ_POS</th>\n      <th>AMMINO_ACID</th>\n      <th>TYPE</th>\n    </tr>\n  </thead>\n  <tbody>\n    <tr>\n      <th>0</th>\n      <td>1w0n</td>\n      <td>A</td>\n      <td>12</td>\n      <td>ILE</td>\n      <td>Other</td>\n    </tr>\n    <tr>\n      <th>1</th>\n      <td>1w0n</td>\n      <td>A</td>\n      <td>13</td>\n      <td>THR</td>\n      <td>Beta</td>\n    </tr>\n    <tr>\n      <th>2</th>\n      <td>1w0n</td>\n      <td>A</td>\n      <td>14</td>\n      <td>LYS</td>\n      <td>Beta</td>\n    </tr>\n    <tr>\n      <th>3</th>\n      <td>1w0n</td>\n      <td>A</td>\n      <td>15</td>\n      <td>VAL</td>\n      <td>Beta</td>\n    </tr>\n    <tr>\n      <th>4</th>\n      <td>1w0n</td>\n      <td>A</td>\n      <td>16</td>\n      <td>GLU</td>\n      <td>Beta</td>\n    </tr>\n  </tbody>\n</table>\n</div>"
     },
     "metadata": {},
     "execution_count": 4
    }
   ],
   "source": [
    "# stride dataset\n",
    "stride.head()"
   ]
  },
  {
   "cell_type": "code",
   "execution_count": 5,
   "metadata": {},
   "outputs": [
    {
     "output_type": "execute_result",
     "data": {
      "text/plain": [
       "  PDB_CODE CHAIN_CODE  SEQ_POS AMMINO_ACID  TYPE\n",
       "0     1w0n          A       12         ILE  Coil\n",
       "1     1w0n          A       13         THR  Beta\n",
       "2     1w0n          A       14         LYS  Beta\n",
       "3     1w0n          A       15         VAL  Beta\n",
       "4     1w0n          A       16         GLU  Beta"
      ],
      "text/html": "<div>\n<style scoped>\n    .dataframe tbody tr th:only-of-type {\n        vertical-align: middle;\n    }\n\n    .dataframe tbody tr th {\n        vertical-align: top;\n    }\n\n    .dataframe thead th {\n        text-align: right;\n    }\n</style>\n<table border=\"1\" class=\"dataframe\">\n  <thead>\n    <tr style=\"text-align: right;\">\n      <th></th>\n      <th>PDB_CODE</th>\n      <th>CHAIN_CODE</th>\n      <th>SEQ_POS</th>\n      <th>AMMINO_ACID</th>\n      <th>TYPE</th>\n    </tr>\n  </thead>\n  <tbody>\n    <tr>\n      <th>0</th>\n      <td>1w0n</td>\n      <td>A</td>\n      <td>12</td>\n      <td>ILE</td>\n      <td>Coil</td>\n    </tr>\n    <tr>\n      <th>1</th>\n      <td>1w0n</td>\n      <td>A</td>\n      <td>13</td>\n      <td>THR</td>\n      <td>Beta</td>\n    </tr>\n    <tr>\n      <th>2</th>\n      <td>1w0n</td>\n      <td>A</td>\n      <td>14</td>\n      <td>LYS</td>\n      <td>Beta</td>\n    </tr>\n    <tr>\n      <th>3</th>\n      <td>1w0n</td>\n      <td>A</td>\n      <td>15</td>\n      <td>VAL</td>\n      <td>Beta</td>\n    </tr>\n    <tr>\n      <th>4</th>\n      <td>1w0n</td>\n      <td>A</td>\n      <td>16</td>\n      <td>GLU</td>\n      <td>Beta</td>\n    </tr>\n  </tbody>\n</table>\n</div>"
     },
     "metadata": {},
     "execution_count": 5
    }
   ],
   "source": [
    "# dssp dataset \n",
    "dssp.head()"
   ]
  },
  {
   "cell_type": "code",
   "execution_count": 6,
   "metadata": {},
   "outputs": [
    {
     "output_type": "stream",
     "name": "stdout",
     "text": [
      "Cath file yet to name this ['Beta' 'Alpha/beta' 'Alpha' 'None']\nstride file yet to name this ['Other' 'Beta' 'Helix']\nstride file yet to name this ['Coil' 'Beta' 'Other' 'Helix']\n"
     ]
    }
   ],
   "source": [
    "# To check unique values for our prediction present in each dataset \n",
    "print(f'Cath file yet to name this {cath.TYPE.unique()}')\n",
    "print(f'stride file yet to name this {stride.TYPE.unique()}')\n",
    "print(f'stride file yet to name this {dssp.TYPE.unique()}')"
   ]
  },
  {
   "cell_type": "code",
   "execution_count": null,
   "metadata": {},
   "outputs": [],
   "source": []
  }
 ]
}