{
 "metadata": {
  "language_info": {
   "codemirror_mode": {
    "name": "ipython",
    "version": 3
   },
   "file_extension": ".py",
   "mimetype": "text/x-python",
   "name": "python",
   "nbconvert_exporter": "python",
   "pygments_lexer": "ipython3",
   "version": "3.8.5-final"
  },
  "orig_nbformat": 2,
  "kernelspec": {
   "name": "python3",
   "display_name": "Python 3.8.5 64-bit",
   "metadata": {
    "interpreter": {
     "hash": "aee8b7b246df8f9039afb4144a1f6fd8d2ca17a180786b69acc140d282b71a49"
    }
   }
  }
 },
 "nbformat": 4,
 "nbformat_minor": 2,
 "cells": [
  {
   "cell_type": "code",
   "execution_count": 1,
   "metadata": {},
   "outputs": [],
   "source": [
    "import numpy as np\n",
    "import pandas as pd"
   ]
  },
  {
   "cell_type": "code",
   "execution_count": 2,
   "metadata": {},
   "outputs": [],
   "source": [
    "# Reading datasets\n",
    "cath = pd.read_csv('/Users/aneruthmohanasundaram/Documents/VUB/2/Adavance Bioinformatics/assignment1_ss_2021/inputData/cath_info.txt',delimiter = \"\\t\",header=None, names=[\"PDB_CODE\", \"CHAIN_CODE\", \"Prediction\"])\n",
    "\n",
    "dssp = pd.read_csv('/Users/aneruthmohanasundaram/Documents/VUB/2/Adavance Bioinformatics/assignment1_ss_2021/inputData/dssp_info.txt', delimiter = \"\\t\",header=None, names=[\"PDB_CODE\", \"CHAIN_CODE\", \"SEQ_POS\",\"AMMINO_ACID\",\"Prediction\"])\n",
    "\n",
    "stride = pd.read_csv('/Users/aneruthmohanasundaram/Documents/VUB/2/Adavance Bioinformatics/assignment1_ss_2021/inputData/stride_info.txt',delimiter = \"\\t\",header=None, names=[\"PDB_CODE\", \"CHAIN_CODE\", \"SEQ_POS\",\"AMMINO_ACID\",\"Prediction\"])"
   ]
  },
  {
   "cell_type": "code",
   "execution_count": 3,
   "metadata": {},
   "outputs": [
    {
     "output_type": "execute_result",
     "data": {
      "text/plain": [
       "  PDB_CODE CHAIN_CODE  SEQ_POS AMMINO_ACID Prediction\n",
       "0     1w0n          A       12         ILE       Coil\n",
       "1     1w0n          A       13         THR       Beta\n",
       "2     1w0n          A       14         LYS       Beta\n",
       "3     1w0n          A       15         VAL       Beta\n",
       "4     1w0n          A       16         GLU       Beta"
      ],
      "text/html": "<div>\n<style scoped>\n    .dataframe tbody tr th:only-of-type {\n        vertical-align: middle;\n    }\n\n    .dataframe tbody tr th {\n        vertical-align: top;\n    }\n\n    .dataframe thead th {\n        text-align: right;\n    }\n</style>\n<table border=\"1\" class=\"dataframe\">\n  <thead>\n    <tr style=\"text-align: right;\">\n      <th></th>\n      <th>PDB_CODE</th>\n      <th>CHAIN_CODE</th>\n      <th>SEQ_POS</th>\n      <th>AMMINO_ACID</th>\n      <th>Prediction</th>\n    </tr>\n  </thead>\n  <tbody>\n    <tr>\n      <th>0</th>\n      <td>1w0n</td>\n      <td>A</td>\n      <td>12</td>\n      <td>ILE</td>\n      <td>Coil</td>\n    </tr>\n    <tr>\n      <th>1</th>\n      <td>1w0n</td>\n      <td>A</td>\n      <td>13</td>\n      <td>THR</td>\n      <td>Beta</td>\n    </tr>\n    <tr>\n      <th>2</th>\n      <td>1w0n</td>\n      <td>A</td>\n      <td>14</td>\n      <td>LYS</td>\n      <td>Beta</td>\n    </tr>\n    <tr>\n      <th>3</th>\n      <td>1w0n</td>\n      <td>A</td>\n      <td>15</td>\n      <td>VAL</td>\n      <td>Beta</td>\n    </tr>\n    <tr>\n      <th>4</th>\n      <td>1w0n</td>\n      <td>A</td>\n      <td>16</td>\n      <td>GLU</td>\n      <td>Beta</td>\n    </tr>\n  </tbody>\n</table>\n</div>"
     },
     "metadata": {},
     "execution_count": 3
    }
   ],
   "source": [
    "dssp.head()"
   ]
  },
  {
   "cell_type": "code",
   "execution_count": 8,
   "metadata": {},
   "outputs": [
    {
     "output_type": "execute_result",
     "data": {
      "text/plain": [
       "      PDB_CODE CHAIN_CODE  SEQ_POS AMMINO_ACID Prediction  Beta  Coil  Helix  \\\n",
       "0         1w0n          A       12         ILE       Coil     0     1      0   \n",
       "1         1w0n          A       13         THR       Beta     1     0      0   \n",
       "2         1w0n          A       14         LYS       Beta     1     0      0   \n",
       "3         1w0n          A       15         VAL       Beta     1     0      0   \n",
       "4         1w0n          A       16         GLU       Beta     1     0      0   \n",
       "...        ...        ...      ...         ...        ...   ...   ...    ...   \n",
       "71386     1ow4          A      114         VAL      Helix     0     0      1   \n",
       "71387     1ow4          A      115         ARG      Helix     0     0      1   \n",
       "71388     1ow4          A      116         ASN      Helix     0     0      1   \n",
       "71389     1ow4          A      117         SER       Coil     0     1      0   \n",
       "71390     1ow4          A      118         TYR       Coil     0     1      0   \n",
       "\n",
       "       Other  \n",
       "0          0  \n",
       "1          0  \n",
       "2          0  \n",
       "3          0  \n",
       "4          0  \n",
       "...      ...  \n",
       "71386      0  \n",
       "71387      0  \n",
       "71388      0  \n",
       "71389      0  \n",
       "71390      0  \n",
       "\n",
       "[71391 rows x 9 columns]"
      ],
      "text/html": "<div>\n<style scoped>\n    .dataframe tbody tr th:only-of-type {\n        vertical-align: middle;\n    }\n\n    .dataframe tbody tr th {\n        vertical-align: top;\n    }\n\n    .dataframe thead th {\n        text-align: right;\n    }\n</style>\n<table border=\"1\" class=\"dataframe\">\n  <thead>\n    <tr style=\"text-align: right;\">\n      <th></th>\n      <th>PDB_CODE</th>\n      <th>CHAIN_CODE</th>\n      <th>SEQ_POS</th>\n      <th>AMMINO_ACID</th>\n      <th>Prediction</th>\n      <th>Beta</th>\n      <th>Coil</th>\n      <th>Helix</th>\n      <th>Other</th>\n    </tr>\n  </thead>\n  <tbody>\n    <tr>\n      <th>0</th>\n      <td>1w0n</td>\n      <td>A</td>\n      <td>12</td>\n      <td>ILE</td>\n      <td>Coil</td>\n      <td>0</td>\n      <td>1</td>\n      <td>0</td>\n      <td>0</td>\n    </tr>\n    <tr>\n      <th>1</th>\n      <td>1w0n</td>\n      <td>A</td>\n      <td>13</td>\n      <td>THR</td>\n      <td>Beta</td>\n      <td>1</td>\n      <td>0</td>\n      <td>0</td>\n      <td>0</td>\n    </tr>\n    <tr>\n      <th>2</th>\n      <td>1w0n</td>\n      <td>A</td>\n      <td>14</td>\n      <td>LYS</td>\n      <td>Beta</td>\n      <td>1</td>\n      <td>0</td>\n      <td>0</td>\n      <td>0</td>\n    </tr>\n    <tr>\n      <th>3</th>\n      <td>1w0n</td>\n      <td>A</td>\n      <td>15</td>\n      <td>VAL</td>\n      <td>Beta</td>\n      <td>1</td>\n      <td>0</td>\n      <td>0</td>\n      <td>0</td>\n    </tr>\n    <tr>\n      <th>4</th>\n      <td>1w0n</td>\n      <td>A</td>\n      <td>16</td>\n      <td>GLU</td>\n      <td>Beta</td>\n      <td>1</td>\n      <td>0</td>\n      <td>0</td>\n      <td>0</td>\n    </tr>\n    <tr>\n      <th>...</th>\n      <td>...</td>\n      <td>...</td>\n      <td>...</td>\n      <td>...</td>\n      <td>...</td>\n      <td>...</td>\n      <td>...</td>\n      <td>...</td>\n      <td>...</td>\n    </tr>\n    <tr>\n      <th>71386</th>\n      <td>1ow4</td>\n      <td>A</td>\n      <td>114</td>\n      <td>VAL</td>\n      <td>Helix</td>\n      <td>0</td>\n      <td>0</td>\n      <td>1</td>\n      <td>0</td>\n    </tr>\n    <tr>\n      <th>71387</th>\n      <td>1ow4</td>\n      <td>A</td>\n      <td>115</td>\n      <td>ARG</td>\n      <td>Helix</td>\n      <td>0</td>\n      <td>0</td>\n      <td>1</td>\n      <td>0</td>\n    </tr>\n    <tr>\n      <th>71388</th>\n      <td>1ow4</td>\n      <td>A</td>\n      <td>116</td>\n      <td>ASN</td>\n      <td>Helix</td>\n      <td>0</td>\n      <td>0</td>\n      <td>1</td>\n      <td>0</td>\n    </tr>\n    <tr>\n      <th>71389</th>\n      <td>1ow4</td>\n      <td>A</td>\n      <td>117</td>\n      <td>SER</td>\n      <td>Coil</td>\n      <td>0</td>\n      <td>1</td>\n      <td>0</td>\n      <td>0</td>\n    </tr>\n    <tr>\n      <th>71390</th>\n      <td>1ow4</td>\n      <td>A</td>\n      <td>118</td>\n      <td>TYR</td>\n      <td>Coil</td>\n      <td>0</td>\n      <td>1</td>\n      <td>0</td>\n      <td>0</td>\n    </tr>\n  </tbody>\n</table>\n<p>71391 rows × 9 columns</p>\n</div>"
     },
     "metadata": {},
     "execution_count": 8
    }
   ],
   "source": [
    "dssp.join(pd.get_dummies(dssp['Prediction']))"
   ]
  },
  {
   "cell_type": "code",
   "execution_count": 11,
   "metadata": {},
   "outputs": [],
   "source": [
    "zx = pd.get_dummies(dssp['AMMINO_ACID'])"
   ]
  },
  {
   "cell_type": "code",
   "execution_count": 12,
   "metadata": {},
   "outputs": [
    {
     "output_type": "execute_result",
     "data": {
      "text/plain": [
       "     X    a    b    c    d    e    f    g    h  ALA  ...  LEU  LYS  MET  PHE  \\\n",
       "0    0    0    0    0    0    0    0    0    0    0  ...    0    0    0    0   \n",
       "1    0    0    0    0    0    0    0    0    0    0  ...    0    0    0    0   \n",
       "2    0    0    0    0    0    0    0    0    0    0  ...    0    1    0    0   \n",
       "3    0    0    0    0    0    0    0    0    0    0  ...    0    0    0    0   \n",
       "4    0    0    0    0    0    0    0    0    0    0  ...    0    0    0    0   \n",
       "\n",
       "   PRO  SER  THR  TRP  TYR  VAL  \n",
       "0    0    0    0    0    0    0  \n",
       "1    0    0    1    0    0    0  \n",
       "2    0    0    0    0    0    0  \n",
       "3    0    0    0    0    0    1  \n",
       "4    0    0    0    0    0    0  \n",
       "\n",
       "[5 rows x 29 columns]"
      ],
      "text/html": "<div>\n<style scoped>\n    .dataframe tbody tr th:only-of-type {\n        vertical-align: middle;\n    }\n\n    .dataframe tbody tr th {\n        vertical-align: top;\n    }\n\n    .dataframe thead th {\n        text-align: right;\n    }\n</style>\n<table border=\"1\" class=\"dataframe\">\n  <thead>\n    <tr style=\"text-align: right;\">\n      <th></th>\n      <th>X</th>\n      <th>a</th>\n      <th>b</th>\n      <th>c</th>\n      <th>d</th>\n      <th>e</th>\n      <th>f</th>\n      <th>g</th>\n      <th>h</th>\n      <th>ALA</th>\n      <th>...</th>\n      <th>LEU</th>\n      <th>LYS</th>\n      <th>MET</th>\n      <th>PHE</th>\n      <th>PRO</th>\n      <th>SER</th>\n      <th>THR</th>\n      <th>TRP</th>\n      <th>TYR</th>\n      <th>VAL</th>\n    </tr>\n  </thead>\n  <tbody>\n    <tr>\n      <th>0</th>\n      <td>0</td>\n      <td>0</td>\n      <td>0</td>\n      <td>0</td>\n      <td>0</td>\n      <td>0</td>\n      <td>0</td>\n      <td>0</td>\n      <td>0</td>\n      <td>0</td>\n      <td>...</td>\n      <td>0</td>\n      <td>0</td>\n      <td>0</td>\n      <td>0</td>\n      <td>0</td>\n      <td>0</td>\n      <td>0</td>\n      <td>0</td>\n      <td>0</td>\n      <td>0</td>\n    </tr>\n    <tr>\n      <th>1</th>\n      <td>0</td>\n      <td>0</td>\n      <td>0</td>\n      <td>0</td>\n      <td>0</td>\n      <td>0</td>\n      <td>0</td>\n      <td>0</td>\n      <td>0</td>\n      <td>0</td>\n      <td>...</td>\n      <td>0</td>\n      <td>0</td>\n      <td>0</td>\n      <td>0</td>\n      <td>0</td>\n      <td>0</td>\n      <td>1</td>\n      <td>0</td>\n      <td>0</td>\n      <td>0</td>\n    </tr>\n    <tr>\n      <th>2</th>\n      <td>0</td>\n      <td>0</td>\n      <td>0</td>\n      <td>0</td>\n      <td>0</td>\n      <td>0</td>\n      <td>0</td>\n      <td>0</td>\n      <td>0</td>\n      <td>0</td>\n      <td>...</td>\n      <td>0</td>\n      <td>1</td>\n      <td>0</td>\n      <td>0</td>\n      <td>0</td>\n      <td>0</td>\n      <td>0</td>\n      <td>0</td>\n      <td>0</td>\n      <td>0</td>\n    </tr>\n    <tr>\n      <th>3</th>\n      <td>0</td>\n      <td>0</td>\n      <td>0</td>\n      <td>0</td>\n      <td>0</td>\n      <td>0</td>\n      <td>0</td>\n      <td>0</td>\n      <td>0</td>\n      <td>0</td>\n      <td>...</td>\n      <td>0</td>\n      <td>0</td>\n      <td>0</td>\n      <td>0</td>\n      <td>0</td>\n      <td>0</td>\n      <td>0</td>\n      <td>0</td>\n      <td>0</td>\n      <td>1</td>\n    </tr>\n    <tr>\n      <th>4</th>\n      <td>0</td>\n      <td>0</td>\n      <td>0</td>\n      <td>0</td>\n      <td>0</td>\n      <td>0</td>\n      <td>0</td>\n      <td>0</td>\n      <td>0</td>\n      <td>0</td>\n      <td>...</td>\n      <td>0</td>\n      <td>0</td>\n      <td>0</td>\n      <td>0</td>\n      <td>0</td>\n      <td>0</td>\n      <td>0</td>\n      <td>0</td>\n      <td>0</td>\n      <td>0</td>\n    </tr>\n  </tbody>\n</table>\n<p>5 rows × 29 columns</p>\n</div>"
     },
     "metadata": {},
     "execution_count": 12
    }
   ],
   "source": [
    "zx.head()"
   ]
  },
  {
   "cell_type": "code",
   "execution_count": 17,
   "metadata": {},
   "outputs": [
    {
     "output_type": "execute_result",
     "data": {
      "text/plain": [
       "Index(['  X', '  a', '  b', '  c', '  d', '  e', '  f', '  g', '  h', 'ALA',\n",
       "       'ARG', 'ASN', 'ASP', 'CYS', 'GLN', 'GLU', 'GLY', 'HIS', 'ILE', 'LEU',\n",
       "       'LYS', 'MET', 'PHE', 'PRO', 'SER', 'THR', 'TRP', 'TYR', 'VAL'],\n",
       "      dtype='object')"
      ]
     },
     "metadata": {},
     "execution_count": 17
    }
   ],
   "source": [
    "zx.columns"
   ]
  },
  {
   "cell_type": "code",
   "execution_count": 18,
   "metadata": {},
   "outputs": [
    {
     "output_type": "execute_result",
     "data": {
      "text/plain": [
       "array([0, 1], dtype=uint8)"
      ]
     },
     "metadata": {},
     "execution_count": 18
    }
   ],
   "source": [
    "zx['  X'].unique()"
   ]
  },
  {
   "cell_type": "code",
   "execution_count": null,
   "metadata": {},
   "outputs": [],
   "source": []
  }
 ]
}