{
  "nbformat": 4,
  "nbformat_minor": 0,
  "metadata": {
    "accelerator": "TPU",
    "colab": {
      "name": "test.ipynb",
      "provenance": [],
      "collapsed_sections": []
    },
    "kernelspec": {
      "display_name": "Python 3.8.5 64-bit",
      "name": "python385jvsc74a57bd0aee8b7b246df8f9039afb4144a1f6fd8d2ca17a180786b69acc140d282b71a49"
    },
    "language_info": {
      "codemirror_mode": {
        "name": "ipython",
        "version": 3
      },
      "file_extension": ".py",
      "mimetype": "text/x-python",
      "name": "python",
      "nbconvert_exporter": "python",
      "pygments_lexer": "ipython3",
      "version": "3.8.5"
    }
  },
  "cells": [
    {
      "cell_type": "code",
      "metadata": {
        "id": "jJwsfUoJ12sT"
      },
      "source": [
        "# Importing packages to visualise\n",
        "import matplotlib.pyplot as plt\n",
        "import matplotlib.ticker as mticker\n",
        "from collections import defaultdict\n",
        "%matplotlib inline"
      ],
      "execution_count": 61,
      "outputs": []
    },
    {
      "cell_type": "code",
      "metadata": {
        "id": "1RLaOD4J12sV"
      },
      "source": [
        "# Reading the dataset \n",
        "genome_info = '/content/chr2L.fa'\n",
        "sequence_info = '/content/10k_reads.fastq'"
      ],
      "execution_count": 2,
      "outputs": []
    },
    {
      "cell_type": "code",
      "metadata": {
        "id": "1BtGBjQN12sW"
      },
      "source": [
        "# Parsing the file\n",
        "def readGenome(aFile):\n",
        "    ''' Funtion to read the fasta file. In our fastq file we have a special character and we need to consider our codes after that. '''\n",
        "    f = open(aFile)\n",
        "    aval = ''.join([i.rstrip() for i in f.readlines() if not i[0] == '>'])\n",
        "    return aval.upper() # Since our characters consist of mixed case letters."
      ],
      "execution_count": 3,
      "outputs": []
    },
    {
      "cell_type": "code",
      "metadata": {
        "id": "4Q3B8QV012sX"
      },
      "source": [
        "# Count the number of bases present \n",
        "def countFrequency(listToPass):\n",
        "    ''' This functions counts the frequency of each base present in our genome '''\n",
        "    base_count = {'A':0,'G':0,'C':0,'T':0} # To keep a count number of bases present in our dataset\n",
        "    for i in listToPass:\n",
        "        if i in base_count.keys():\n",
        "            base_count[i] += 1\n",
        "    return base_count"
      ],
      "execution_count": 4,
      "outputs": []
    },
    {
      "cell_type": "code",
      "metadata": {
        "id": "ix2aPX2J12sX"
      },
      "source": [
        "# Function to read the sequence\n",
        "def readSequence(seq):\n",
        "    ''' A function to extract all the sequence and quality score from our dataset. This intakes the fastq file.'''\n",
        "    f = open(seq,'r') # Reading the file\n",
        "    sequence,quality = [],[]\n",
        "    while True:\n",
        "        f.readline()\n",
        "        seq = f.readline().rstrip() # Assigning our sequence to a variable\n",
        "        f.readline()\n",
        "        qual = f.readline().rstrip() # Fetching our quality \n",
        "        if len(seq) == 0: break # Exit the while loop\n",
        "        sequence.append(seq) # Appending our sequence to our newly created empty list\n",
        "        quality.append(qual) # Appending our quality score to newly created empty list\n",
        "    return sequence,quality # Returns the values in tuple format"
      ],
      "execution_count": 5,
      "outputs": []
    },
    {
      "cell_type": "code",
      "metadata": {
        "id": "pJl1m7-f12sX"
      },
      "source": [
        "# Functions to calculate the quality score\n",
        "def qulaityScore(astring):\n",
        "    return ord(astring) - 33 # Ord function gives the ascii values\n",
        "\n",
        "def fetchQualityScore(alist):\n",
        "    blist = [qulaityScore(j) for i in list(alist) for j in i] # Consider each character and calculates its quality score\n",
        "    return blist"
      ],
      "execution_count": 6,
      "outputs": []
    },
    {
      "cell_type": "code",
      "metadata": {
        "id": "-RMrV-Ld12sY"
      },
      "source": [
        "# Function to define or perform suffixArray\n",
        "def suffixArray(s):\n",
        "    suffixes = [(s[i:], i) for i in range(len(s))]\n",
        "    suffixes.sort(key=lambda x: x[0])\n",
        "    return {s[0] for s in suffixes}"
      ],
      "execution_count": 40,
      "outputs": []
    },
    {
      "cell_type": "code",
      "metadata": {
        "id": "77-RZOdCp2KL"
      },
      "source": [
        "# Function to mathc our reads with genome\n",
        "def linearScan(sequenceCheck,suffixVal): # Choosing of this algorihtm is because it takes O(n) as time complexity.\n",
        "  count_dict = defaultdict(list) # Creating a dictioanry to strore number of occurence per read\n",
        "  for idx,item in enumerate(sequenceCheck):\n",
        "    if item in suffixVal:\n",
        "      count_dict[item].append(idx)\n",
        "  return count_dict"
      ],
      "execution_count": 63,
      "outputs": []
    },
    {
      "cell_type": "code",
      "metadata": {
        "colab": {
          "base_uri": "https://localhost:8080/"
        },
        "id": "LKuZj9TH12sY",
        "outputId": "41f30799-9dee-4e57-84a3-597d7586db2b"
      },
      "source": [
        "genome = readGenome(genome_info)\n",
        "test_val = genome[:10000] # To read the first 10000 genome \n",
        "sequence_list = readSequence(sequence_info)[0]\n",
        "# quality_list = readSequence(sequence_info)[1]\n",
        "# qulaity_score = fetchQualityScore(quality_list)\n",
        "\n",
        "print(f'The first 5 sequence list is {sequence_list[:5]}')\n",
        "print(f'\\nNumber of bases present is {countFrequency(genome)}')"
      ],
      "execution_count": 32,
      "outputs": [
        {
          "output_type": "stream",
          "text": [
            "The first 5 sequence list is ['TTCACCCTATAATATGGGAGAGAAAATGAGAGGCAA', 'TCTCGCATACGCGATCATATTTCACCCTATAATATG', 'TCTCGCATACGCGATCATATTTCACCCTATAATATG', 'TCTCGCATACGCGATCATATTTCACCCTATAATATG', 'TCTCGCATACGCGATCATATTTCACCCTATAATATG']\n",
            "\n",
            "Number of bases present is {'A': 6853032, 'G': 4912383, 'C': 4912017, 'T': 6836080}\n"
          ],
          "name": "stdout"
        }
      ]
    },
    {
      "cell_type": "code",
      "metadata": {
        "id": "JwiLsZtarZkO"
      },
      "source": [
        "val = ''.join(suffixArray(test_val)) # Merging all suffix array in one string"
      ],
      "execution_count": 64,
      "outputs": []
    },
    {
      "cell_type": "code",
      "metadata": {
        "colab": {
          "base_uri": "https://localhost:8080/"
        },
        "id": "7ocZ5mS8s3mI",
        "outputId": "df07a246-e425-4233-df55-ee67d6d9edf3"
      },
      "source": [
        "linearScan(sequence_list,val) # Since with low RAM capacity tried with 10000 dataset"
      ],
      "execution_count": 65,
      "outputs": [
        {
          "output_type": "execute_result",
          "data": {
            "text/plain": [
              "defaultdict(list,\n",
              "            {'AAAACACGAATGATGAAGAGGGATAGATTTTATTGG': [79],\n",
              "             'AAGAAGTCCATGGGCGAGCGGGATCAGCCACAGAGC': [89],\n",
              "             'AAGCACAAAATGCCCGCTCAAAAAAAGGCATGAATA': [23],\n",
              "             'AAGTAATTCCGTGGGCAGTCACTACGCCGAACCGGT': [118, 119, 120],\n",
              "             'AATTGCCGCTAATCAGAAGCAAGTTTATTGCAATGT': [61, 62],\n",
              "             'ACATAGAACATAGGCTTGAACATATAATGACTGCCT': [24, 25, 26],\n",
              "             'ACCTACACATAACTACCGAAGACATATGCACGTTTA': [129, 130],\n",
              "             'ATCGAACTAAGTAAGCCTAAGCGCTTAGGAAAAATA': [81],\n",
              "             'CAGGCATTAAGCGCTGGACTCGCAAAGTGGACTTGT': [139, 140, 143, 147, 148],\n",
              "             'CATATCCATTGCTACTCGCATGTAGAGATTTCCACT': [82, 83, 84, 85],\n",
              "             'CATCTTTCAGGCCCTTGACTTACTCGGATGCTGTGC': [98, 99],\n",
              "             'CCCTACATACCCACCACATTTGACCTCCTCTCAGAC': [91, 92, 94],\n",
              "             'CTTTCATTCTCTATCTTATATTACCGCAAACACAAA': [28, 31],\n",
              "             'GAACGGTCGGAGAAGAGATCTGGCGTACTTCCCGCC': [135],\n",
              "             'GATTGCCTCTCATTGTCTCACCCATATTATGGGAAC': [33, 36, 37],\n",
              "             'GCCAACATATTGTGATCTTCGATTTTTTGGCAACCC': [9],\n",
              "             'GCCGGGCCATCTTTCAGGCCCTTGACTTACTCGGAT': [97],\n",
              "             'GTCCTTGCTGACAGAACGGTCGGAGAAGAGATCTGG': [131, 132],\n",
              "             'GTCTAAGCCAGAATGGCTTCGCCAACTCCCGCGTAA': [104, 106],\n",
              "             'GTTCAGTGCAGCGCAAAATGGCCGCTCAAGAAAAGG': [65, 66],\n",
              "             'GTTGCCGCTAATCAAAAATAAATTCCTTGCAACATA': [17, 18, 19, 20, 21, 22],\n",
              "             'TCTTCGTGCCCCGCCTCCTGCAAGCTGGGCATGCAG': [137, 138],\n",
              "             'TTCAAATTGCCGCTAATCAGAAGCAAGTTTATTGCA': [59, 60]})"
            ]
          },
          "metadata": {
            "tags": []
          },
          "execution_count": 65
        }
      ]
    },
    {
      "cell_type": "code",
      "metadata": {
        "colab": {
          "base_uri": "https://localhost:8080/",
          "height": 421
        },
        "id": "EzefUE3_12sZ",
        "outputId": "7b221e61-1115-4567-e929-b6797d601cd9"
      },
      "source": [
        "# Visulaising our dataset\n",
        "keys = countFrequency(test_val).keys()\n",
        "values = countFrequency(test_val).values()\n",
        "plt.figure(figsize=(15,6))\n",
        "plt.bar(keys,values)\n",
        "plt.title('Number of Bases present')\n",
        "plt.xlabel('Bases present in our dataset')\n",
        "plt.ylabel('Count for bases')"
      ],
      "execution_count": 66,
      "outputs": [
        {
          "output_type": "execute_result",
          "data": {
            "text/plain": [
              "Text(0, 0.5, 'Count for bases')"
            ]
          },
          "metadata": {
            "tags": []
          },
          "execution_count": 66
        },
        {
          "output_type": "display_data",
          "data": {
            "image/png": "[encoded data removed]",
            "text/plain": [
              "<Figure size 1080x432 with 1 Axes>"
            ]
          },
          "metadata": {
            "tags": [],
            "needs_background": "light"
          }
        }
      ]
    }
  ]
}