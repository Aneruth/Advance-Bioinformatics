{
 "metadata": {
  "language_info": {
   "codemirror_mode": {
    "name": "ipython",
    "version": 3
   },
   "file_extension": ".py",
   "mimetype": "text/x-python",
   "name": "python",
   "nbconvert_exporter": "python",
   "pygments_lexer": "ipython3",
   "version": "3.8.5"
  },
  "orig_nbformat": 2,
  "kernelspec": {
   "name": "python385jvsc74a57bd0aee8b7b246df8f9039afb4144a1f6fd8d2ca17a180786b69acc140d282b71a49",
   "display_name": "Python 3.8.5 64-bit"
  }
 },
 "nbformat": 4,
 "nbformat_minor": 2,
 "cells": [
  {
   "cell_type": "code",
   "execution_count": 1,
   "metadata": {},
   "outputs": [],
   "source": [
    "# Importing packages to visualise\n",
    "import matplotlib.pyplot as plt\n",
    "import matplotlib.ticker as mticker\n",
    "%matplotlib inline"
   ]
  },
  {
   "cell_type": "code",
   "execution_count": 2,
   "metadata": {},
   "outputs": [],
   "source": [
    "# Reading the dataset \n",
    "genome_info = '/Users/aneruthmohanasundaram/Documents/GitHub/Advance-Bioinformatics/Assignment 2/Datasets/chr2L.fa'\n",
    "sequence_info = '/Users/aneruthmohanasundaram/Documents/GitHub/Advance-Bioinformatics/Assignment 2/Datasets/10k_reads.fastq'"
   ]
  },
  {
   "cell_type": "code",
   "execution_count": 3,
   "metadata": {},
   "outputs": [],
   "source": [
    "# Parsing the file\n",
    "def readGenome(aFile):\n",
    "    ''' Funtion to read the fasta file. In our fastq file we have a special character and we need to consider our codes after that. '''\n",
    "    f = open(aFile)\n",
    "    aval = ''.join([i.rstrip() for i in f.readlines() if not i[0] == '>'])\n",
    "    return aval.upper() # Since our characters consist of mixed case letters."
   ]
  },
  {
   "cell_type": "code",
   "execution_count": 4,
   "metadata": {},
   "outputs": [],
   "source": [
    "# Count the number of bases present \n",
    "def countFrequency(listToPass):\n",
    "    ''' This functions counts the frequency of each base present in our genome '''\n",
    "    base_count = {'A':0,'G':0,'C':0,'T':0} # To keep a count number of bases present in our dataset\n",
    "    for i in listToPass:\n",
    "        if i in base_count.keys():\n",
    "            base_count[i] += 1\n",
    "    return base_count"
   ]
  },
  {
   "cell_type": "code",
   "execution_count": 5,
   "metadata": {},
   "outputs": [],
   "source": [
    "# Function to read the sequence\n",
    "def readSequence(seq):\n",
    "    ''' A function to extract all the sequence and quality score from our dataset. This intakes the fastq file.'''\n",
    "    f = open(seq,'r') # Reading the file\n",
    "    sequence,quality = [],[]\n",
    "    while True:\n",
    "        f.readline()\n",
    "        seq = f.readline().rstrip() # Assigning our sequence to a variable\n",
    "        f.readline()\n",
    "        qual = f.readline().rstrip() # Fetching our quality \n",
    "        if len(seq) == 0: break # Exit the while loop\n",
    "        sequence.append(seq) # Appending our sequence to our newly created empty list\n",
    "        quality.append(qual) # Appending our quality score to newly created empty list\n",
    "    return sequence,quality # Returns the values in tuple format"
   ]
  },
  {
   "cell_type": "code",
   "execution_count": 6,
   "metadata": {},
   "outputs": [],
   "source": [
    "# Functions to calculate the quality score\n",
    "def qulaityScore(astring):\n",
    "    return ord(astring) - 33 # Ord function gives the ascii values\n",
    "\n",
    "def fetchQualityScore(alist):\n",
    "    blist = [qulaityScore(j) for i in list(alist) for j in i] # Consider each character and calculates its quality score\n",
    "    return blist"
   ]
  },
  {
   "cell_type": "code",
   "execution_count": 7,
   "metadata": {},
   "outputs": [],
   "source": [
    "# Function to define or perform suffixArray\n",
    "def suffixArray(s):\n",
    "    suffixes = [(s[i:], i) for i in range(len(s))]\n",
    "    suffixes.sort(key=lambda x: x[0])\n",
    "    return [s[1] for s in suffixes]"
   ]
  },
  {
   "cell_type": "code",
   "execution_count": 8,
   "metadata": {},
   "outputs": [
    {
     "output_type": "stream",
     "name": "stdout",
     "text": [
      "The first 5 sequence list is ['TTCACCCTATAATATGGGAGAGAAAATGAGAGGCAA', 'TCTCGCATACGCGATCATATTTCACCCTATAATATG', 'TCTCGCATACGCGATCATATTTCACCCTATAATATG', 'TCTCGCATACGCGATCATATTTCACCCTATAATATG', 'TCTCGCATACGCGATCATATTTCACCCTATAATATG']\n",
      "\n",
      "Quality score for first 10 elements is [26, 26, 26, 26, 26, 26, 26, 26, 26, 26]\n",
      "\n",
      "Number of bases present is {'A': 6853032, 'G': 4912383, 'C': 4912017, 'T': 6836080}\n"
     ]
    }
   ],
   "source": [
    "genome = readGenome(genome_info)\n",
    "# asd = genome # To read the first 1000 genome \n",
    "sequence_list = readSequence(sequence_info)[0]\n",
    "quality_list = readSequence(sequence_info)[1]\n",
    "qulaity_score = fetchQualityScore(quality_list)\n",
    "\n",
    "print(f'The first 5 sequence list is {sequence_list[:5]}')\n",
    "print(f'\\nQuality score for first 10 elements is {qulaity_score[:10]}')\n",
    "print(f'\\nNumber of bases present is {countFrequency(genome)}')"
   ]
  },
  {
   "cell_type": "code",
   "execution_count": 9,
   "metadata": {},
   "outputs": [],
   "source": [
    "# Visulaising our dataset\n",
    "# keys = countFrequency(genome).keys()\n",
    "# values = countFrequency(genome).values()\n",
    "# plt.figure(figsize=(15,6))\n",
    "# plt.bar(keys,values)\n",
    "# plt.title('Number of Bases present')\n",
    "# plt.xlabel('Bases present in our dataset')\n",
    "# plt.ylabel('Count for bases')"
   ]
  },
  {
   "cell_type": "code",
   "execution_count": 19,
   "metadata": {},
   "outputs": [],
   "source": [
    "def naiveBuildSA(t):\n",
    "    satups = sorted([(t[i:], i) for i in range(len(t))])\n",
    "    return list(map(lambda x: x[0], satups))"
   ]
  },
  {
   "cell_type": "code",
   "execution_count": 28,
   "metadata": {},
   "outputs": [],
   "source": [
    "def suffixArray(s):\n",
    "    suffixes = [(s[i:], i) for i in range(len(s))]\n",
    "    suffixes.sort(key=lambda x: x[0])\n",
    "    return {s[0] for s in suffixes}"
   ]
  },
  {
   "cell_type": "code",
   "execution_count": 29,
   "metadata": {},
   "outputs": [],
   "source": [
    "w = suffixArray(genome[:10000])\n",
    "# out = [i for i in w if len(i[0]) > 6]"
   ]
  },
  {
   "cell_type": "code",
   "execution_count": 34,
   "metadata": {},
   "outputs": [],
   "source": [
    "cv = ''.join(w)\n",
    "kv = {}\n",
    "for i in sequence_list:\n",
    "    if i in cv:\n",
    "        kv[i] = cv.index(i)"
   ]
  },
  {
   "cell_type": "code",
   "execution_count": 23,
   "metadata": {},
   "outputs": [],
   "source": [
    "suffixArray(mini_dataset)"
   ]
  },
  {
   "cell_type": "code",
   "execution_count": 35,
   "metadata": {},
   "outputs": [
    {
     "output_type": "execute_result",
     "data": {
      "text/plain": [
       "{'GCCAACATATTGTGATCTTCGATTTTTTGGCAACCC': 4652,\n",
       " 'GTTGCCGCTAATCAAAAATAAATTCCTTGCAACATA': 4909,\n",
       " 'AAGCACAAAATGCCCGCTCAAAAAAAGGCATGAATA': 4950,\n",
       " 'ACATAGAACATAGGCTTGAACATATAATGACTGCCT': 4997,\n",
       " 'CTTTCATTCTCTATCTTATATTACCGCAAACACAAA': 5031,\n",
       " 'GATTGCCTCTCATTGTCTCACCCATATTATGGGAAC': 5105,\n",
       " 'TTCAAATTGCCGCTAATCAGAAGCAAGTTTATTGCA': 5238,\n",
       " 'AATTGCCGCTAATCAGAAGCAAGTTTATTGCAATGT': 5242,\n",
       " 'GTTCAGTGCAGCGCAAAATGGCCGCTCAAGAAAAGG': 5276,\n",
       " 'AAAACACGAATGATGAAGAGGGATAGATTTTATTGG': 6197,\n",
       " 'ATCGAACTAAGTAAGCCTAAGCGCTTAGGAAAAATA': 6955,\n",
       " 'CATATCCATTGCTACTCGCATGTAGAGATTTCCACT': 7031,\n",
       " 'AAGAAGTCCATGGGCGAGCGGGATCAGCCACAGAGC': 7184,\n",
       " 'CCCTACATACCCACCACATTTGACCTCCTCTCAGAC': 7283,\n",
       " 'GCCGGGCCATCTTTCAGGCCCTTGACTTACTCGGAT': 7349,\n",
       " 'CATCTTTCAGGCCCTTGACTTACTCGGATGCTGTGC': 7356,\n",
       " 'GTCTAAGCCAGAATGGCTTCGCCAACTCCCGCGTAA': 7392,\n",
       " 'AAGTAATTCCGTGGGCAGTCACTACGCCGAACCGGT': 7549,\n",
       " 'ACCTACACATAACTACCGAAGACATATGCACGTTTA': 8200,\n",
       " 'GTCCTTGCTGACAGAACGGTCGGAGAAGAGATCTGG': 8279,\n",
       " 'GAACGGTCGGAGAAGAGATCTGGCGTACTTCCCGCC': 8292,\n",
       " 'TCTTCGTGCCCCGCCTCCTGCAAGCTGGGCATGCAG': 8347,\n",
       " 'CAGGCATTAAGCGCTGGACTCGCAAAGTGGACTTGT': 8380}"
      ]
     },
     "metadata": {},
     "execution_count": 35
    }
   ],
   "source": [
    "kv"
   ]
  },
  {
   "cell_type": "code",
   "execution_count": null,
   "metadata": {},
   "outputs": [],
   "source": []
  }
 ]
}