{
 "metadata": {
  "language_info": {
   "codemirror_mode": {
    "name": "ipython",
    "version": 3
   },
   "file_extension": ".py",
   "mimetype": "text/x-python",
   "name": "python",
   "nbconvert_exporter": "python",
   "pygments_lexer": "ipython3",
   "version": "3.8.5"
  },
  "orig_nbformat": 2,
  "kernelspec": {
   "name": "python385jvsc74a57bd0aee8b7b246df8f9039afb4144a1f6fd8d2ca17a180786b69acc140d282b71a49",
   "display_name": "Python 3.8.5 64-bit"
  }
 },
 "nbformat": 4,
 "nbformat_minor": 2,
 "cells": [
  {
   "cell_type": "code",
   "execution_count": 34,
   "metadata": {},
   "outputs": [],
   "source": [
    "# Defining the path for all our dataset \n",
    "cath_path = '/Users/aneruthmohanasundaram/Documents/GitHub/Amino-Acid-Prediction/Assignment 1/Datasets/cath_info.txt'\n",
    "dssp_path = '/Users/aneruthmohanasundaram/Documents/GitHub/Amino-Acid-Prediction/Assignment 1/Datasets/dssp_info.txt'\n",
    "stride_path = '/Users/aneruthmohanasundaram/Documents/GitHub/Amino-Acid-Prediction/Assignment 1/Datasets/stride_info.txt'"
   ]
  },
  {
   "cell_type": "code",
   "execution_count": 50,
   "metadata": {},
   "outputs": [],
   "source": [
    "# Performing some analysis to our dataset\n",
    "import pandas as pd,seaborn as sns,matplotlib.pyplot as plt\n",
    "%matplotlib inline\n",
    "cath = pd.read_csv(cath_path,delimiter='\\t',names=['A','B','C'])\n",
    "dssp = pd.read_csv(dssp_path,delimiter='\\t',names=['A','B','C','D','E'])\n",
    "stride = pd.read_csv(stride_path,delimiter='\\t',names=['A','B','C','D','E'])"
   ]
  },
  {
   "cell_type": "code",
   "execution_count": 56,
   "metadata": {},
   "outputs": [
    {
     "output_type": "execute_result",
     "data": {
      "text/plain": [
       "array(['Beta', 'Alpha/beta', 'Alpha', 'None'], dtype=object)"
      ]
     },
     "metadata": {},
     "execution_count": 56
    }
   ],
   "source": [
    "cath.C.unique()"
   ]
  },
  {
   "cell_type": "code",
   "execution_count": 1,
   "metadata": {},
   "outputs": [],
   "source": [
    "# Create a dictionary for our ammnio acid present in our dataset\n",
    "amino = {'ALA': 0, 'ARG': 1, 'ASN': 2, 'ASP': 3, 'CYS': 4, 'GLU': 5, 'GLN': 6, 'GLY': 7, 'HIS': 8,'ILE': 9, 'LEU': 10, 'LYS': 11, 'MET': 12, 'PHE': 13, 'PRO': 14, 'SER': 15, 'THR': 16,'TRP': 17, 'TYR': 18, 'VAL': 19,'UNK': 20}\n",
    "\n",
    "aminoList = ['ALA', 'ARG', 'ASN', 'ASP', 'CYS', 'GLU', 'GLN', 'GLY', 'HIS', 'ILE', 'LEU','LYS','MET', 'PHE', 'PRO', 'SER', 'THR', 'TRP', 'TYR', 'VAL','UNK']\n",
    "\n",
    "# Intialising the count for our amino acid as 0, this is done because if we see how many amino acid present in our dataset.\n",
    "aminoCount = {'ALA': 0, 'ARG': 0, 'ASN': 0, 'ASP': 0, 'CYS': 0, 'GLU': 0, 'GLN': 0, 'GLY': 0, 'HIS': 0,'ILE': 0, 'LEU': 0, 'LYS': 0, 'MET': 0, 'PHE': 0, 'PRO': 0, 'SER': 0, 'THR': 0,'TRP': 0, 'TYR': 0, 'VAL': 0,'UNK': 0}\n",
    "\n",
    "\n",
    "# Creating our dictionary to have check of type of structure in our dataset such as helix, coil and beta.\n",
    "stru_dict = {'H': 0, 'E': 1, 'C': 2}\n",
    "stru_list = ['H', 'E', 'C']"
   ]
  },
  {
   "cell_type": "code",
   "execution_count": 29,
   "metadata": {},
   "outputs": [],
   "source": [
    "def fileRead(path):\n",
    "    fileOpen = open(path)\n",
    "    return [i.split() for i in fileOpen.readlines()]"
   ]
  },
  {
   "cell_type": "code",
   "execution_count": 30,
   "metadata": {},
   "outputs": [],
   "source": [
    "def structure_type(alist):\n",
    "    blist = []\n",
    "    helixCount,betaCount,coilCount = 0,0,0\n",
    "    for i in alist:\n",
    "        if i[3] in aminoList:\n",
    "            c = aminoCount.get(i[3])\n",
    "            c += 1\n",
    "            aminoCount.update({i[3]: c})\n",
    "            if i[4] == 'Helix':\n",
    "                i[-1] = 'H'\n",
    "                helixCount += 1\n",
    "            elif i[4] == 'Beta':\n",
    "                i[-1] = 'E'\n",
    "                betaCount += 1\n",
    "            elif i[4] == 'Coil' or i[4] == 'Other':\n",
    "                i[-1] = 'C'\n",
    "                coilCount += 1\n",
    "            blist.append(i)\n",
    "    print('The Helix count is: ' + str(helixCount))\n",
    "    print('The Beta count is: ' + str(betaCount))\n",
    "    print('The Coil count is: ' + str(coilCount))\n",
    "    print(aminoCount)\n",
    "    return blist"
   ]
  },
  {
   "cell_type": "code",
   "execution_count": null,
   "metadata": {},
   "outputs": [],
   "source": []
  }
 ]
}