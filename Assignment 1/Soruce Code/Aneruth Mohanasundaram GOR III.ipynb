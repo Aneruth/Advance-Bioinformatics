{
 "metadata": {
  "language_info": {
   "codemirror_mode": {
    "name": "ipython",
    "version": 3
   },
   "file_extension": ".py",
   "mimetype": "text/x-python",
   "name": "python",
   "nbconvert_exporter": "python",
   "pygments_lexer": "ipython3",
   "version": "3.8.5"
  },
  "orig_nbformat": 2,
  "kernelspec": {
   "name": "python385jvsc74a57bd0aee8b7b246df8f9039afb4144a1f6fd8d2ca17a180786b69acc140d282b71a49",
   "display_name": "Python 3.8.5 64-bit"
  }
 },
 "nbformat": 4,
 "nbformat_minor": 2,
 "cells": [
  {
   "source": [
    "# Aneruth Mohanasundaram GOR III Algorithm - 0573520\n",
    "## Masters in Applied Computer Science "
   ],
   "cell_type": "markdown",
   "metadata": {}
  },
  {
   "cell_type": "code",
   "execution_count": 2,
   "metadata": {},
   "outputs": [],
   "source": [
    "import math\n",
    "import numpy as np"
   ]
  },
  {
   "cell_type": "code",
   "execution_count": 46,
   "metadata": {},
   "outputs": [],
   "source": [
    "stride = np.genfromtxt('/Users/aneruthmohanasundaram/Documents/GitHub/Advance-Bioinformatics/Assignment 1/Datasets/stride_info.txt', delimiter=\"\\t\", dtype=str)\n",
    "dssp = np.genfromtxt('/Users/aneruthmohanasundaram/Documents/GitHub/Advance-Bioinformatics/Assignment 1/Datasets/dssp_info.txt', delimiter=\"\\t\", dtype=str)\n",
    "cath = np.genfromtxt('/Users/aneruthmohanasundaram/Documents/GitHub/Advance-Bioinformatics/Assignment 1/Datasets/cath_info.txt', delimiter=\"\\t\", dtype=str)\n",
    "\n",
    "#==================== GLOBAL VARIABLES\n",
    "stru_dict = {'H': 0, 'E': 1, 'C': 2}\n",
    "stru_list = ['H', 'E', 'C']\n",
    "\n",
    "amino_dict = {'ALA': 0, 'ARG': 1, 'ASN': 2, 'ASP': 3, 'CYS': 4, 'GLU': 5, 'GLN': 6, 'GLY': 7, 'HIS': 8,\n",
    "           'ILE': 9, 'LEU': 10, 'LYS': 11, 'MET': 12, 'PHE': 13, 'PRO': 14, 'SER': 15, 'THR': 16,\n",
    "           'TRP': 17, 'TYR': 18, 'VAL': 19}\n",
    "\n",
    "amino_list = np.array(['ALA', 'ARG', 'ASN', 'ASP', 'CYS', 'GLU', 'GLN', 'GLY', 'HIS', 'ILE', 'LEU','LYS',\n",
    "              'MET', 'PHE', 'PRO', 'SER', 'THR', 'TRP', 'TYR', 'VAL'])\n",
    "\n",
    "amino_total_count = {}\n",
    "\n",
    "helix_count,beta_count,coil_count = 0,0,0"
   ]
  },
  {
   "source": [
    "## This gives us the total count of Amino Acids present in our dataset and also changes the name of our residue name to single character value"
   ],
   "cell_type": "markdown",
   "metadata": {}
  },
  {
   "cell_type": "code",
   "execution_count": 47,
   "metadata": {},
   "outputs": [],
   "source": [
    "def count(txt_file):\n",
    "    global helix_count, beta_count, coil_count, amino_total_count\n",
    "    #new_list = np.empty(shape=(1,5), dtype=str )\n",
    "    new_list = []\n",
    "    amino_total_count = {'ALA': 0, 'ARG': 0, 'ASN': 0, 'ASP': 0, 'CYS': 0, 'GLU': 0, 'GLN': 0, 'GLY': 0, 'HIS': 0,\n",
    "           'ILE': 0, 'LEU': 0, 'LYS': 0, 'MET': 0, 'PHE': 0, 'PRO': 0, 'SER': 0, 'THR': 0,\n",
    "           'TRP': 0, 'TYR': 0, 'VAL': 0}\n",
    "    \n",
    "    helix_count,beta_count,coil_count = 0,0,0\n",
    "    txt_file = np.char.replace(txt_file, 'Helix', 'H')\n",
    "    txt_file = np.char.replace(txt_file, 'Beta', 'E')\n",
    "    txt_file = np.char.replace(txt_file, 'Other', 'C')\n",
    "    txt_file = np.char.replace(txt_file, 'Coil', 'C')\n",
    "\n",
    "    for i in range(len(txt_file)):  \n",
    "        if txt_file[i][3] in list(amino_dict.keys()):\n",
    "            c = amino_total_count.get(txt_file[i][3])\n",
    "            c += 1\n",
    "            amino_total_count.update({txt_file[i][3]: c})\n",
    "            if txt_file[i][4] == 'H':helix_count += 1\n",
    "            elif txt_file[i][4] == 'E':beta_count += 1\n",
    "            elif txt_file[i][4] == 'C':coil_count += 1\n",
    "            new_list.append(txt_file[i])\n",
    "    return new_list"
   ]
  },
  {
   "cell_type": "code",
   "execution_count": 48,
   "metadata": {},
   "outputs": [],
   "source": [
    "def separate_protein_class(dataset):\n",
    "   ''' Return as list where we pass our dataset given '''\n",
    "    dataset = np.array(dataset, dtype=str)\n",
    "    _, indices = np.unique(dataset[:, 0], return_index=True)\n",
    "    indices = np.sort(indices)\n",
    "    new_list = np.split(dataset, indices)[1:]\n",
    "    return new_list"
   ]
  },
  {
   "source": [
    "# Functions For Self information Table "
   ],
   "cell_type": "markdown",
   "metadata": {}
  },
  {
   "cell_type": "code",
   "execution_count": 51,
   "metadata": {},
   "outputs": [],
   "source": [
    "def SelfInfoTable():\n",
    "    return np.zeros(shape=(20,3),dtype=int).tolist()  # 20 proteins are added in the list\n",
    "    \n",
    "def SelfCountTable(table, residue, structure, count):\n",
    "    table[residue][structure] = count\n",
    "\n",
    "def SelfCountAssignTable(table, residue, structure):\n",
    "    return table[residue][structure]"
   ]
  },
  {
   "source": [
    "# Functions For Residual Information Table"
   ],
   "cell_type": "markdown",
   "metadata": {}
  },
  {
   "cell_type": "code",
   "execution_count": 52,
   "metadata": {},
   "outputs": [],
   "source": [
    "def residual_create_table():\n",
    "    # This creates a list for 20 amino acids present where we later append the values of our MCC and Q3 score    \n",
    "    return np.zeros(shape=(20,18,20,3),dtype=int).tolist() \n",
    "\n",
    "def residual_setter(table, jres, m, mres, jstruct, count):\n",
    "    table[jres][m][mres][jstruct] = count\n",
    "\n",
    "def residual_getter(table, jres, m, mres, jstruct):\n",
    "    return table[jres][m][mres][jstruct]"
   ]
  },
  {
   "cell_type": "code",
   "execution_count": 53,
   "metadata": {},
   "outputs": [],
   "source": [
    "def generate(aGroup):\n",
    "    self_table = SelfInfoTable()\n",
    "    residual_table = residual_create_table()\n",
    "    ''' Gets the values generated from self info table and residual table '''\n",
    "    for protein_list in aGroup:\n",
    "        for j in range(len(protein_list)):\n",
    "            self_name = protein_list[j][-2]  \n",
    "            self_stru = protein_list[j][-1]  \n",
    "            # update the self information table\n",
    "            count = SelfCountAssignTable(self_table, amino_dict[self_name], stru_dict[self_stru])\n",
    "            SelfCountTable(self_table, amino_dict[self_name], stru_dict[self_stru], count + 1)\n",
    "            # update the pair information table\n",
    "            sequence0 = protein_list[j][-3]        # residue sequence code at the location of j\n",
    "            for m in np.arange(-8,9,1).tolist():\n",
    "                if m == 0:continue  # except for base residue\n",
    "                if j + m < 0 or j + m > len(protein_list) - 1:continue                    \n",
    "                sequence1 = (protein_list[j + m])[-3]       \n",
    "                m0 = int(sequence1) - int(sequence0)        # relative location of sequence code\n",
    "                # if our sequence not in range between -8 to 8 excluding 0 then it'll tends to break so to avoid we are continuing the loop.\n",
    "                if m0 not in np.arange(-8,9,1).tolist():continue \n",
    "                residual_name = (protein_list[j + m])[-2]\n",
    "                # update the pair information table\n",
    "                count = residual_getter(residual_table, amino_dict[self_name], m0 + 8, amino_dict[residual_name], stru_dict[self_stru])\n",
    "                residual_setter(residual_table, amino_dict[self_name], m0 + 8, amino_dict[residual_name], stru_dict[self_stru], count + 1)\n",
    "        # create_table(protein, self_table, residual_table)\n",
    "    return self_table, residual_table"
   ]
  },
  {
   "cell_type": "code",
   "execution_count": 54,
   "metadata": {},
   "outputs": [],
   "source": [
    "def compute_self_information(self_table, residue_name):\n",
    "    ''' This function is used to store the value of specific Structure type.\n",
    "    It counts each values of H,E and C for our amino acids present.\n",
    "    For example: If we have a acid ILE then for it the H,E and C count will appends to the list.''' \n",
    "    I = []      \n",
    "    for stru in stru_list:      \n",
    "        fsr = SelfCountAssignTable(self_table, amino_dict[residue_name], stru_dict[stru])     \n",
    "        fnsr,fns,fs = 0,0,0       \n",
    "        for s in stru_list:\n",
    "            if s != stru: # If our value is not present in our structure list then we assign the fsnr and increment it with our self count table\n",
    "                fnsr = fnsr + SelfCountAssignTable(self_table, amino_dict[residue_name], stru_dict[s])\n",
    "        for i in list(amino_dict.keys()): # Similar to our structure type we are checking our amino acids and incrementing\n",
    "            for s in stru_list:\n",
    "                if s != stru:\n",
    "                    fns = fns + SelfCountAssignTable(self_table, amino_dict[i], stru_dict[s])\n",
    "                else:\n",
    "                    fs = fs + SelfCountAssignTable(self_table, amino_dict[i], stru_dict[s])\n",
    "        if fnsr == 0: # If our values hits zero we assign it as infinity. \n",
    "            i = math.inf\n",
    "        else:\n",
    "            i = math.log(fsr/fnsr) + math.log(fns/fs)\n",
    "        I.append(i)\n",
    "    return I"
   ]
  },
  {
   "cell_type": "code",
   "execution_count": 55,
   "metadata": {},
   "outputs": [],
   "source": [
    "def predict(protein, j, self_table, residual_table):\n",
    "    ''' Centered on the formula: This procedure computes the self knowledge of a given residue: I(ΔSj ;Rj ).\n",
    "    This formula is used to calculate the propensity of our self information table for our residue name. '''\n",
    "    self_name = (protein[j])[-2]\n",
    "    \n",
    "    ''' # Computing self-information propensity from the given formula I(ΔSj ;Rj ) which involves calculating the pair frequencies of residues from our self info table.'''\n",
    "    I = compute_self_information(self_table, self_name) \n",
    "    sequence0 = int(protein[j][2])\n",
    "    for a in range(3):\n",
    "        stru = stru_list[a]\n",
    "        for m in np.arange(-8,9,1).tolist():\n",
    "            # avoid index out of range\n",
    "            if m == 0 :continue\n",
    "            if j + m < 0 or j + m > len(protein) - 1:continue\n",
    "            sequence1 = int((protein[j + m])[2])\n",
    "            m0 = sequence1 - sequence0  # the minus of two residues sequence code\n",
    "            if m0 not in np.arange(-8,9).tolist():continue\n",
    "            self_name = (protein[j])[-2]\n",
    "            residual_name = (protein[j + m])[-2]\n",
    "            residue0 = residual_getter(residual_table, amino_dict[self_name], m0 + 8, amino_dict[residual_name], stru_dict[stru])\n",
    "            residue1,residue2 = 0,0\n",
    "            residue3 = SelfCountAssignTable(self_table, amino_dict[self_name], stru_dict[stru])\n",
    "            for s in stru_list:\n",
    "                if s != stru:\n",
    "                    residue1 = residue1 + residual_getter(residual_table, amino_dict[self_name], m0 + 8, amino_dict[residual_name], stru_dict[s])\n",
    "                    residue2 = residue2 + SelfCountAssignTable(self_table, amino_dict[residual_name], stru_dict[s])\n",
    "            if residue1 == 0:\n",
    "                I[a] = math.inf\n",
    "                break\n",
    "            try:\n",
    "                I[a] = I[a] + math.log(residue0 / residue1) + math.log(residue2 / residue3)\n",
    "            except ValueError:\n",
    "                I[a] = -math.inf\n",
    "                break\n",
    "    # considering the biggest values\n",
    "    max_value = max(I)\n",
    "    for i in range(3):\n",
    "        if I[i] == max_value:\n",
    "            i = i\n",
    "            break\n",
    "    return stru_list[i]"
   ]
  },
  {
   "cell_type": "code",
   "execution_count": 56,
   "metadata": {},
   "outputs": [],
   "source": [
    "def predict_dataset(nested_list, result_list, data_self_table, data_residual_table):\n",
    "    for i in range(len(nested_list)):\n",
    "        self_table = SelfInfoTable()\n",
    "        residual_table = residual_create_table()\n",
    "        for j in range(len(nested_list)):\n",
    "            if i == j:\n",
    "                protein_list = nested_list[i]\n",
    "                for j in range(len(protein_list)):\n",
    "                    self_name = protein_list[j][-2]  # the residue name of j\n",
    "                    self_stru = protein_list[j][-1]  # the secondary structure of j\n",
    "                    # update the self information table\n",
    "                    count = SelfCountAssignTable(self_table, amino_dict[self_name], stru_dict[self_stru])\n",
    "                    SelfCountTable(self_table, amino_dict[self_name], stru_dict[self_stru], count + 1)\n",
    "                    # update the pair information table\n",
    "                    sequence0 = protein_list[j][-3]        # the residue sequence code at the location of j\n",
    "                    for m in range(-8, 9, 1):\n",
    "                        if m == 0:  # if we get a base pair of residue then we continue looping\n",
    "                            continue\n",
    "                        if j + m < 0 or j + m > len(protein_list) - 1:\n",
    "                            continue\n",
    "                        sequence1 = (protein_list[j + m])[-3]\n",
    "                        m0 = int(sequence1) - int(sequence0)        # assigning relative location of sequence code\n",
    "                        if m0 not in np.arange(-8,9,1).tolist():continue    # avoid sequence break\n",
    "                        residual_name = (protein_list[j + m])[-2]\n",
    "                        # update the pair information table\n",
    "                        count = residual_getter(residual_table, amino_dict[self_name], m0 + 8, amino_dict[residual_name], stru_dict[self_stru])\n",
    "                        residual_setter(residual_table, amino_dict[self_name], m0 + 8, amino_dict[residual_name], stru_dict[self_stru], count + 1)\n",
    "                break\n",
    "        pred = []\n",
    "        for j in range(len(protein_list)):\n",
    "            pred.append(predict(protein_list, j, data_self_table, data_residual_table))\n",
    "        result_list.append(pred)"
   ]
  },
  {
   "cell_type": "code",
   "execution_count": 57,
   "metadata": {},
   "outputs": [],
   "source": [
    "def score(predict_value, facts):\n",
    "    output = []\n",
    "    # traverse both the prediction and actual structure and comparing them\n",
    "    for i, j in zip(predict_value, facts): # We use zip to join both the list and fetching the respective values required \n",
    "        correct = 0\n",
    "        mcc_val = np.zeros(shape=(3,4),dtype=int).tolist() # Creating a table where we are appending the values of our MCC Coef.\n",
    "        for p, f in zip(i, j): \n",
    "            if p == f[-1]:\n",
    "                correct += 1\n",
    "            for k in range(3):\n",
    "                residue = stru_list[k]\n",
    "                if f[-1] == residue:\n",
    "                    if f[-1] == p:  # True Positive\n",
    "                        mcc_val[k][0] += 1\n",
    "                    else:   # False Negative\n",
    "                        mcc_val[k][2] += 1\n",
    "                else:\n",
    "                    if p == residue:    # False Positive\n",
    "                        mcc_val[k][1] += 1\n",
    "                    else:\n",
    "                        mcc_val[k][3] += 1  # True Negative\n",
    "        MCC = []\n",
    "        for table in mcc_val:\n",
    "            TP = table[0]\n",
    "            FP = table[1]\n",
    "            FN = table[2]\n",
    "            TN = table[3]\n",
    "            try:\n",
    "                mcc = (TP*TN - FP*FN)/math.sqrt((TP + FP)*(TP + FN)*(TN + FP)*(TN + FN))\n",
    "            except ZeroDivisionError:\n",
    "                mcc = (TP*TN - FP*FN)\n",
    "            MCC.append(mcc)\n",
    "        Q3 = correct/len(i)\n",
    "        output.append([Q3, MCC])\n",
    "    return output"
   ]
  },
  {
   "source": [
    "# predict the protein family it is associated with the MCC.Helix ,MCC.Sheet and MCC.Coil"
   ],
   "cell_type": "markdown",
   "metadata": {}
  },
  {
   "cell_type": "code",
   "execution_count": 58,
   "metadata": {},
   "outputs": [],
   "source": [
    "def pFamily(scores):\n",
    "    def criterion(score):\n",
    "        # Alpha calcualtion\n",
    "        if abs(score[1]) <= 0.03:\n",
    "            return 'Alpha'\n",
    "        # Beta calculation\n",
    "        elif abs(score[0]) <= 0.03:\n",
    "            return 'Beta'\n",
    "        # Mixed residue calculation\n",
    "        else:\n",
    "            return 'Alpha/beta'\n",
    "    family = []\n",
    "    for score in scores:\n",
    "        family.append(criterion(score[-1]))\n",
    "    return family"
   ]
  },
  {
   "cell_type": "code",
   "execution_count": 59,
   "metadata": {},
   "outputs": [],
   "source": [
    "def accuracy(pFamily, facts):\n",
    "    count = 0\n",
    "    for i, j in zip(pFamily, facts):\n",
    "        if i == j[-1]:count += 1\n",
    "    return count/len(facts)"
   ]
  },
  {
   "source": [
    " # A method to implement GOR algorithm first and calculate our Q3 and MCC score"
   ],
   "cell_type": "markdown",
   "metadata": {}
  },
  {
   "cell_type": "code",
   "execution_count": 60,
   "metadata": {},
   "outputs": [],
   "source": [
    "def normalGorOutput(stride,dssp,cath):\n",
    "    stride_list = np.char.strip(stride)\n",
    "    dssp_list = np.char.strip(dssp)\n",
    "    cath_list = np.char.strip(cath)\n",
    "\n",
    "    print('\\nThe division of structure type in the STRIDE dataset is as follows: ')\n",
    "    stride_list = count(stride_list)\n",
    "    print('The Helix count is: ' + str(helix_count),'\\nThe Beta count is:' + str(beta_count),'\\nThe Coil count is:' + str(coil_count),'\\n',amino_total_count)\n",
    "    \n",
    "    print('\\nThe division of structure type in the DSSP dataset is as follows: ')\n",
    "    dssp_list = count(dssp_list)\n",
    "    print('The Helix count is: ' + str(helix_count),'\\nThe Beta count is:' + str(beta_count),'\\nThe Coil count is:' + str(coil_count),'\\n',amino_total_count)\n",
    "\n",
    "    stride_nest = separate_protein_class(stride_list)\n",
    "    dssp_nest = separate_protein_class(dssp_list)   \n",
    "\n",
    "    self_table_stride, residual_table_stride = generate(stride_nest)\n",
    "    self_table_dssp, residual_table_dssp = generate(dssp_nest)\n",
    "\n",
    "    pred_stride, pred_dssp = [], []\n",
    "    stride_result, dssp_result = [], [[]]\n",
    "    \n",
    "    predict_dataset(stride_nest, pred_stride, self_table_stride, residual_table_stride)\n",
    "    predict_dataset(dssp_nest, pred_dssp, self_table_dssp, residual_table_dssp)\n",
    "\n",
    "    scores_stride = score(pred_stride, stride_nest)\n",
    "    scores_dssp = score(pred_dssp, dssp_nest)\n",
    "\n",
    "    val1,val2 = 0,0\n",
    "\n",
    "    for el1, el2 in zip(scores_stride, scores_dssp):\n",
    "        if el1[0] >= 0.5:val1 += 1\n",
    "        if el2[0] >= 0.5:val2 += 1\n",
    "\n",
    "    print('\\nThe overall Q3 for stride without leaving out protein in the dataset is', 100*val1/len(scores_stride), '%.')\n",
    "    print('The overall Q3 for dssp without leaving out protein in the dataset is', 100*val2/len(scores_dssp), '%.')\n",
    "\n",
    "    predf_stride = pFamily(scores_stride)\n",
    "    predf_dssp = pFamily(scores_dssp)\n",
    "\n",
    "    print(f\"\\nThe accuracy of prediction for protein family in stride dataset without leaveone out method is {(accuracy(predf_stride, cath_list)*100)}\")\n",
    "    print(f\"The accuracy of prediction for protein family in dssp dataset without leaveone out method is {(accuracy(predf_dssp, cath_list)*100)}\")# predict the protein family"
   ]
  },
  {
   "source": [
    "# Leave One Out Method \n",
    "\n",
    "## This method is calculated by where we eleminate a residue for example we have a residue name Helix where it has a certain count and we are removing it from the main dataset and we are using the excluded dataset as our main dataset and performing normal GOR III method."
   ],
   "cell_type": "markdown",
   "metadata": {}
  },
  {
   "cell_type": "code",
   "execution_count": 44,
   "metadata": {},
   "outputs": [],
   "source": [
    "def leaveOneOut(dataset):\n",
    "    '''\n",
    "    dataset --> takes a list value\n",
    "    Since our dataset takes as a list type and it's enumerated with our index value and pops the values based on the index position present in our datase.\n",
    "    '''\n",
    "    for idx,row in enumerate(dataset): \n",
    "        if (row[3] == 'ILE' and row[4] == 'Helix'):\n",
    "            dataset.pop(idx)\n",
    "        elif (row[3] == 'ILE' and row[4] == 'Beta'):\n",
    "            dataset.pop(idx) \n",
    "        elif (row[3] == 'ILE' and row[4] == 'Coil') or (row[3] == 'ILE' and row[4] == 'Other'):\n",
    "            dataset.pop(idx)\n",
    "    return dataset"
   ]
  },
  {
   "source": [
    "# Calculating all Q3 and MCC score after Leave one out method "
   ],
   "cell_type": "markdown",
   "metadata": {}
  },
  {
   "cell_type": "code",
   "execution_count": 61,
   "metadata": {},
   "outputs": [],
   "source": [
    "def LeaveOneOutImplements(stride,dssp,cath):\n",
    "    stride_leave = np.char.strip(stride)\n",
    "    dssp_leave = np.char.strip(dssp)\n",
    "    cath_list = np.char.strip(cath)\n",
    "    \n",
    "    print('\\nThe division of structure type in the STRIDE dataset is as follows: ')\n",
    "    sl = leaveOneOut(stride_leave.tolist())\n",
    "    stride_list = count(sl)\n",
    "    print('The Helix count is: ' + str(helix_count),'\\nThe Beta count is:' + str(beta_count),'\\nThe Coil count is:' + str(coil_count),'\\n',amino_total_count)\n",
    "    \n",
    "    print('\\nThe division of structure type in the DSSP dataset is as follows: ')\n",
    "    dl = leaveOneOut(dssp_leave.tolist())\n",
    "    dssp_list = count(dl)\n",
    "    print('The Helix count is: ' + str(helix_count),'\\nThe Beta count is:' + str(beta_count),'\\nThe Coil count is:' + str(coil_count),'\\n',amino_total_count)\n",
    "\n",
    "    stride_leave_nest = separate_protein_class(stride_list)\n",
    "    dssp_leave_nest = separate_protein_class(dssp_list)   \n",
    "\n",
    "    self_table_stride, residual_table_stride = generate(stride_leave_nest)\n",
    "    self_table_dssp, residual_table_dssp = generate(dssp_leave_nest)\n",
    "\n",
    "    pred_stride, pred_dssp = [], []\n",
    "    stride_result, dssp_result = [], [[]]\n",
    "\n",
    "    predict_dataset(stride_leave_nest, pred_stride, self_table_stride, residual_table_stride)\n",
    "    predict_dataset(dssp_leave_nest, pred_dssp, self_table_dssp, residual_table_dssp)\n",
    "\n",
    "    scores_stride = score(pred_stride, stride_leave_nest)\n",
    "    scores_dssp = score(pred_dssp, dssp_leave_nest)\n",
    "\n",
    "    count1 = 0\n",
    "    count2 = 0\n",
    "\n",
    "    for el1, el2 in zip(scores_stride, scores_dssp):\n",
    "        if el1[0] >= 0.5:\n",
    "            count1 += 1\n",
    "        if el2[0] >= 0.5:\n",
    "            count2 += 1\n",
    "\n",
    "    print('\\nThe overall Q3 for stride with leaving out protein in the dataset is', 100*count1/len(scores_stride), '%.')\n",
    "    print('The overall Q3 for dssp with leaving out protein in the dataset is', 100*count2/len(scores_dssp), '%.')\n",
    "\n",
    "    predf_stride = pFamily(scores_stride)\n",
    "    predf_dssp = pFamily(scores_dssp)\n",
    "\n",
    "    print(f\"\\nThe accuracy of prediction for protein family in stride dataset with leaveone out method is {(accuracy(predf_stride, cath_list)*100)}\")\n",
    "    print(f\"The accuracy of prediction for protein family in dssp dataset with leaveone out method is {(accuracy(predf_dssp, cath_list)*100)}\")# predict the protein family"
   ]
  },
  {
   "source": [
    "# Main function to print all values where we call it in one function"
   ],
   "cell_type": "markdown",
   "metadata": {}
  },
  {
   "cell_type": "code",
   "execution_count": 62,
   "metadata": {},
   "outputs": [
    {
     "output_type": "stream",
     "name": "stdout",
     "text": [
      "\n",
      "The division of structure type in the STRIDE dataset is as follows: \n",
      "The Helix count is: 25755 \n",
      "The Beta count is:16148 \n",
      "The Coil count is:29170 \n",
      " {'ALA': 5963, 'ARG': 3665, 'ASN': 3053, 'ASP': 4244, 'CYS': 1103, 'GLU': 4816, 'GLN': 2849, 'GLY': 5119, 'HIS': 1715, 'ILE': 4034, 'LEU': 6449, 'LYS': 4213, 'MET': 1260, 'PHE': 2890, 'PRO': 3181, 'SER': 4148, 'THR': 3937, 'TRP': 1007, 'TYR': 2467, 'VAL': 4960}\n",
      "\n",
      "The division of structure type in the DSSP dataset is as follows: \n",
      "The Helix count is: 24862 \n",
      "The Beta count is:15694 \n",
      "The Coil count is:30031 \n",
      " {'ALA': 5961, 'ARG': 3665, 'ASN': 3053, 'ASP': 4242, 'CYS': 626, 'GLU': 4815, 'GLN': 2849, 'GLY': 5116, 'HIS': 1716, 'ILE': 4034, 'LEU': 6449, 'LYS': 4212, 'MET': 1261, 'PHE': 2890, 'PRO': 3181, 'SER': 4146, 'THR': 3937, 'TRP': 1007, 'TYR': 2467, 'VAL': 4960}\n",
      "\n",
      "The overall Q3 for stride without leaving out protein in the dataset is 62.550607287449395 %.\n",
      "The overall Q3 for dssp without leaving out protein in the dataset is 66.39676113360323 %.\n",
      "\n",
      "The accuracy of prediction for protein family in stride dataset without leaveone out method is 56.22489959839358\n",
      "The accuracy of prediction for protein family in dssp dataset without leaveone out method is 56.42570281124498\n",
      "\n",
      "Q3 and Accuracy after Leave one out method\n",
      "\n",
      "The division of structure type in the STRIDE dataset is as follows: \n",
      "The Helix count is: 24369 \n",
      "The Beta count is:14703 \n",
      "The Coil count is:28195 \n",
      " {'ALA': 5963, 'ARG': 3665, 'ASN': 3053, 'ASP': 4244, 'CYS': 1103, 'GLU': 4816, 'GLN': 2849, 'GLY': 5119, 'HIS': 1715, 'ILE': 228, 'LEU': 6449, 'LYS': 4213, 'MET': 1260, 'PHE': 2890, 'PRO': 3181, 'SER': 4148, 'THR': 3937, 'TRP': 1007, 'TYR': 2467, 'VAL': 4960}\n",
      "\n",
      "The division of structure type in the DSSP dataset is as follows: \n",
      "The Helix count is: 23493 \n",
      "The Beta count is:14250 \n",
      "The Coil count is:29038 \n",
      " {'ALA': 5961, 'ARG': 3665, 'ASN': 3053, 'ASP': 4242, 'CYS': 626, 'GLU': 4815, 'GLN': 2849, 'GLY': 5116, 'HIS': 1716, 'ILE': 228, 'LEU': 6449, 'LYS': 4212, 'MET': 1261, 'PHE': 2890, 'PRO': 3181, 'SER': 4146, 'THR': 3937, 'TRP': 1007, 'TYR': 2467, 'VAL': 4960}\n",
      "\n",
      "The overall Q3 for stride with leaving out protein in the dataset is 66.80161943319838 %.\n",
      "The overall Q3 for dssp with leaving out protein in the dataset is 67.00404858299595 %.\n",
      "\n",
      "The accuracy of prediction for protein family in stride dataset with leaveone out method is 56.22489959839358\n",
      "The accuracy of prediction for protein family in dssp dataset with leaveone out method is 56.024096385542165\n"
     ]
    }
   ],
   "source": [
    "if __name__ == \"__main__\":\n",
    "    normalGorOutput(stride,dssp,cath)\n",
    "    print('\\nQ3 and Accuracy after Leave one out method')\n",
    "    LeaveOneOutImplements(stride,dssp,cath)"
   ]
  },
  {
   "source": [
    "### The results show that there is a substantial increase in the accuracy of the stride dataset, 62 percent vs 66 percent when one is removed, but there is just a small increase in the accuracy of the DSSP dataset. This suggests an error in my algorithm, but after attempting multiple methods, this inconsistency persists."
   ],
   "cell_type": "markdown",
   "metadata": {}
  }
 ]
}